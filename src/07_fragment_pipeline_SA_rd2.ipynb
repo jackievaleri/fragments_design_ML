{
 "cells": [
  {
   "cell_type": "code",
   "execution_count": 1,
   "metadata": {},
   "outputs": [
    {
     "name": "stderr",
     "output_type": "stream",
     "text": [
      "/Users/jackie16201/opt/anaconda3/envs/torch_environment/lib/python3.10/site-packages/tqdm/auto.py:22: TqdmWarning: IProgress not found. Please update jupyter and ipywidgets. See https://ipywidgets.readthedocs.io/en/stable/user_install.html\n",
      "  from .autonotebook import tqdm as notebook_tqdm\n",
      "/Users/jackie16201/Desktop/Spring_2023/fragments_discovery_design_ML/src/pipeline.py:11: DeprecationWarning: The rdkit.Chem.MCS module is deprecated; please use rdkit.Chem.rdFMCS instead.\n",
      "  from rdkit.Chem import MCS\n"
     ]
    }
   ],
   "source": [
    "%matplotlib inline\n",
    "import pandas as pd\n",
    "from pipeline import run_pipeline\n",
    "# JV note: recapitulates 13.1_fragment_prioritization_pipeline_v5_script_0.05_17atom_on_800K_and_orderable and out/pipeline_v5_script/frag_0.05_17atom_800K_and_5mil;"
   ]
  },
  {
   "cell_type": "code",
   "execution_count": 2,
   "metadata": {},
   "outputs": [
    {
     "name": "stderr",
     "output_type": "stream",
     "text": [
      "/var/folders/py/8hwb28r933z4xh4q0dw5hz2h0000gn/T/ipykernel_39170/1287207626.py:11: DtypeWarning: Columns (1,2,3) have mixed types. Specify dtype option on import or set low_memory=False.\n",
      "  orderable = pd.read_csv('../out/model_preds_on_frags_and_cpds/SA/combined_orderable_5mil_preds_08_01_2022.csv')\n",
      "/var/folders/py/8hwb28r933z4xh4q0dw5hz2h0000gn/T/ipykernel_39170/1287207626.py:17: FutureWarning: The frame.append method is deprecated and will be removed from pandas in a future version. Use pandas.concat instead.\n",
      "  full_cpd_df = broad800k.append(orderable)\n"
     ]
    }
   ],
   "source": [
    "# save metadata\n",
    "broad800k = pd.read_csv('../out/model_preds_on_frags_and_cpds/SA/combined_broad_preds_05_20_2022.csv')\n",
    "metadata = pd.read_csv('../data/static_datasets/PublicStructures.txt', sep = '\\t')\n",
    "broad800k = broad800k.merge(metadata, left_on = 'smiles', right_on = 'SMILES', how = 'left')\n",
    "broad800k = broad800k.drop_duplicates('smiles')\n",
    "broad800k = broad800k[['smiles', 'Name', 'ACTIVITY']]\n",
    "broad800k.to_csv('../out/model_preds_on_frags_and_cpds/SA/combined_broad_preds_with_metadata_05_20_2022.csv')\n",
    "\n",
    "# orderable 5 mil molecules\n",
    "orderable = pd.read_csv('../out/model_preds_on_frags_and_cpds/SA/combined_orderable_5mil_preds_08_01_2022.csv')\n",
    "orderable['smiles'] = orderable['SMILES']\n",
    "orderable['Name'] = orderable['Database']\n",
    "orderable = orderable[['smiles', 'Name', 'ACTIVITY']]\n",
    "\n",
    "# combine them\n",
    "full_cpd_df = broad800k.append(orderable)\n",
    "full_cpd_df.to_csv('../out/model_preds_on_frags_and_cpds/SA/combined_broad_preds_and_5mil_orderable_preds.csv', index = False)"
   ]
  },
  {
   "cell_type": "code",
   "execution_count": 3,
   "metadata": {},
   "outputs": [],
   "source": [
    "# ACTUAL VALUES for SA round 2\n",
    "\n",
    "# values for processing fragments and compounds\n",
    "fragment_path = '../out/model_preds_on_frags_and_cpds/SA/FINISHED_combined_fragment_preds_gdb17_07_05_2022.csv'\n",
    "compound_path = '../out/model_preds_on_frags_and_cpds/SA/combined_broad_preds_and_5mil_orderable_preds.csv'\n",
    "result_path = '../out/fragment_algorithm_pipeline_runs/07_SA_rd2/'\n",
    "fragment_smi_col = 'SMILES'\n",
    "compound_smi_col = 'smiles'\n",
    "fragment_hit_col = 'ACTIVITY'\n",
    "compound_hit_col = 'ACTIVTY'\n",
    "cpd_name_col = 'Name'\n",
    "\n",
    "# filters and thresholds for fragments and compounds\n",
    "fragment_score = 0.05\n",
    "compound_score = 0.2\n",
    "fragment_remove_pains_brenk = 'both' # one of 'both', 'pains', 'brenk', 'none'\n",
    "compound_remove_pains_brenk = 'both' # one of 'both', 'pains', 'brenk', 'none'\n",
    "fragment_druglikeness_filter = [] # list containing 'egan', 'ghose', 'lipinski', 'muegge'\n",
    "compound_druglikeness_filter = [] # list containing 'egan', 'ghose', 'lipinski', 'muegge'\n",
    "fragment_require_more_than_coh = True\n",
    "fragment_remove_patterns = []\n",
    "\n",
    "# input for matching and comparison to existing datasets\n",
    "frags_cannot_disrupt_rings = True\n",
    "fragment_length_threshold = 0 # must be bigger than 0\n",
    "display_inline_candidates = True\n",
    "analogues_pval_diff_thresh = 0\n",
    "analogues_absolute_diff_thresh = 0.05\n",
    "\n",
    "# toxicity\n",
    "toxicity_threshold_if_present = 0.5\n",
    "toxicity_threshold_require_presence = False\n",
    "\n",
    "# antibiotics\n",
    "abx_path = '../data/static_datasets/04052022_CLEANED_v5_antibiotics_across_many_classes.csv'\n",
    "abx_smiles_col = 'Smiles'\n",
    "abx_name_col = 'Name'\n",
    "cpd_sim_to_abx = 0\n",
    "\n",
    "# training set\n",
    "train_set_path = '../data/training_data/SA/37K_sa_screen.csv'\n",
    "train_set_smiles_col = 'SMILES'\n",
    "train_set_name_col = 'Compound_ID'\n",
    "cpd_sim_to_train_set = 0\n",
    "\n",
    "# purchasable libraries\n",
    "purch_path = ''\n",
    "purch_name_col = 'BROADID'\n",
    "purch_name_needs_split = False\n",
    "\n",
    "# tested before libraries - can be more expansive than train set\n",
    "tested_before_path = ''\n",
    "tested_before_name_col = 'Name'\n",
    "tested_before_name_needs_split = False"
   ]
  },
  {
   "cell_type": "code",
   "execution_count": 4,
   "metadata": {},
   "outputs": [
    {
     "name": "stdout",
     "output_type": "stream",
     "text": [
      "\n",
      "Processing fragments...\n"
     ]
    },
    {
     "ename": "ParserError",
     "evalue": "Error tokenizing data. C error: Calling read(nbytes) on source failed. Try engine='python'.",
     "output_type": "error",
     "traceback": [
      "\u001b[0;31m---------------------------------------------------------------------------\u001b[0m",
      "\u001b[0;31mParserError\u001b[0m                               Traceback (most recent call last)",
      "\u001b[1;32m/Users/jackie16201/Desktop/Spring_2023/fragments_discovery_design_ML/src/07_fragment_pipeline_SA_rd2.ipynb Cell 4\u001b[0m in \u001b[0;36m<cell line: 1>\u001b[0;34m()\u001b[0m\n\u001b[0;32m----> <a href='vscode-notebook-cell:/Users/jackie16201/Desktop/Spring_2023/fragments_discovery_design_ML/src/07_fragment_pipeline_SA_rd2.ipynb#W4sZmlsZQ%3D%3D?line=0'>1</a>\u001b[0m run_pipeline(fragment_path\u001b[39m=\u001b[39;49mfragment_path, compound_path\u001b[39m=\u001b[39;49mcompound_path, result_path\u001b[39m=\u001b[39;49mresult_path, fragment_smi_col\u001b[39m=\u001b[39;49mfragment_smi_col, compound_smi_col\u001b[39m=\u001b[39;49mcompound_smi_col, fragment_hit_col\u001b[39m=\u001b[39;49mfragment_hit_col, compound_hit_col\u001b[39m=\u001b[39;49mcompound_hit_col, fragment_score\u001b[39m=\u001b[39;49mfragment_score, compound_score\u001b[39m=\u001b[39;49mcompound_score, fragment_require_more_than_coh\u001b[39m=\u001b[39;49mfragment_require_more_than_coh, fragment_remove_pains_brenk\u001b[39m=\u001b[39;49mfragment_remove_pains_brenk, compound_remove_pains_brenk\u001b[39m=\u001b[39;49mcompound_remove_pains_brenk, fragment_druglikeness_filter\u001b[39m=\u001b[39;49mfragment_druglikeness_filter, compound_druglikeness_filter\u001b[39m=\u001b[39;49mcompound_druglikeness_filter, fragment_remove_patterns\u001b[39m=\u001b[39;49mfragment_remove_patterns, frags_cannot_disrupt_rings\u001b[39m=\u001b[39;49mfrags_cannot_disrupt_rings, fragment_length_threshold\u001b[39m=\u001b[39;49mfragment_length_threshold, toxicity_threshold_if_present\u001b[39m=\u001b[39;49mtoxicity_threshold_if_present, toxicity_threshold_require_presence\u001b[39m=\u001b[39;49mtoxicity_threshold_require_presence, abx_path\u001b[39m=\u001b[39;49mabx_path, abx_smiles_col\u001b[39m=\u001b[39;49mabx_smiles_col, abx_name_col\u001b[39m=\u001b[39;49mabx_name_col, train_set_path\u001b[39m=\u001b[39;49mtrain_set_path, train_set_smiles_col\u001b[39m=\u001b[39;49mtrain_set_smiles_col, train_set_name_col\u001b[39m=\u001b[39;49mtrain_set_name_col, analogues_pval_diff_thresh\u001b[39m=\u001b[39;49manalogues_pval_diff_thresh, analogues_absolute_diff_thresh\u001b[39m=\u001b[39;49manalogues_absolute_diff_thresh, cpd_name_col\u001b[39m=\u001b[39;49mcpd_name_col, display_inline_candidates\u001b[39m=\u001b[39;49mdisplay_inline_candidates, purch_path\u001b[39m=\u001b[39;49mpurch_path, purch_name_col\u001b[39m=\u001b[39;49mpurch_name_col, purch_name_needs_split\u001b[39m=\u001b[39;49mpurch_name_needs_split, cpd_sim_to_abx\u001b[39m=\u001b[39;49mcpd_sim_to_abx, cpd_sim_to_train_set\u001b[39m=\u001b[39;49mcpd_sim_to_train_set)\n",
      "File \u001b[0;32m~/Desktop/Spring_2023/fragments_discovery_design_ML/src/pipeline.py:729\u001b[0m, in \u001b[0;36mrun_pipeline\u001b[0;34m(fragment_path, compound_path, result_path, fragment_smi_col, compound_smi_col, fragment_hit_col, compound_hit_col, fragment_score, compound_score, fragment_require_more_than_coh, fragment_remove_pains_brenk, compound_remove_pains_brenk, fragment_druglikeness_filter, compound_druglikeness_filter, fragment_remove_patterns, frags_cannot_disrupt_rings, fragment_length_threshold, toxicity_threshold_if_present, toxicity_threshold_require_presence, abx_path, abx_smiles_col, abx_name_col, train_set_path, train_set_smiles_col, train_set_name_col, analogues_pval_diff_thresh, analogues_absolute_diff_thresh, cpd_name_col, display_inline_candidates, purch_path, purch_name_col, purch_name_needs_split, tested_before_path, tested_before_name_col, tested_before_name_needs_split, cpd_sim_to_abx, cpd_sim_to_train_set)\u001b[0m\n\u001b[1;32m    725\u001b[0m \u001b[39mdef\u001b[39;00m \u001b[39mrun_pipeline\u001b[39m(fragment_path, compound_path, result_path, fragment_smi_col \u001b[39m=\u001b[39m \u001b[39m'\u001b[39m\u001b[39msmiles\u001b[39m\u001b[39m'\u001b[39m, compound_smi_col \u001b[39m=\u001b[39m \u001b[39m'\u001b[39m\u001b[39msmiles\u001b[39m\u001b[39m'\u001b[39m, fragment_hit_col \u001b[39m=\u001b[39m \u001b[39m'\u001b[39m\u001b[39mhit\u001b[39m\u001b[39m'\u001b[39m, compound_hit_col \u001b[39m=\u001b[39m \u001b[39m'\u001b[39m\u001b[39mhit\u001b[39m\u001b[39m'\u001b[39m, fragment_score \u001b[39m=\u001b[39m \u001b[39m0.2\u001b[39m, compound_score \u001b[39m=\u001b[39m \u001b[39m0.2\u001b[39m, fragment_require_more_than_coh \u001b[39m=\u001b[39m \u001b[39mTrue\u001b[39;00m, fragment_remove_pains_brenk \u001b[39m=\u001b[39m \u001b[39m'\u001b[39m\u001b[39mboth\u001b[39m\u001b[39m'\u001b[39m, compound_remove_pains_brenk \u001b[39m=\u001b[39m \u001b[39m'\u001b[39m\u001b[39mboth\u001b[39m\u001b[39m'\u001b[39m, fragment_druglikeness_filter \u001b[39m=\u001b[39m [], compound_druglikeness_filter \u001b[39m=\u001b[39m [], fragment_remove_patterns \u001b[39m=\u001b[39m [], frags_cannot_disrupt_rings \u001b[39m=\u001b[39m \u001b[39mTrue\u001b[39;00m, fragment_length_threshold \u001b[39m=\u001b[39m \u001b[39m0\u001b[39m, toxicity_threshold_if_present \u001b[39m=\u001b[39m \u001b[39m0\u001b[39m, toxicity_threshold_require_presence \u001b[39m=\u001b[39m \u001b[39mFalse\u001b[39;00m, abx_path \u001b[39m=\u001b[39m \u001b[39m'\u001b[39m\u001b[39m'\u001b[39m, abx_smiles_col \u001b[39m=\u001b[39m \u001b[39m'\u001b[39m\u001b[39msmiles\u001b[39m\u001b[39m'\u001b[39m, abx_name_col \u001b[39m=\u001b[39m \u001b[39m'\u001b[39m\u001b[39mName\u001b[39m\u001b[39m'\u001b[39m, train_set_path \u001b[39m=\u001b[39m \u001b[39m'\u001b[39m\u001b[39m'\u001b[39m, train_set_smiles_col \u001b[39m=\u001b[39m \u001b[39m'\u001b[39m\u001b[39msmiles\u001b[39m\u001b[39m'\u001b[39m, train_set_name_col \u001b[39m=\u001b[39m \u001b[39m'\u001b[39m\u001b[39mName\u001b[39m\u001b[39m'\u001b[39m, analogues_pval_diff_thresh \u001b[39m=\u001b[39m \u001b[39m0\u001b[39m, analogues_absolute_diff_thresh \u001b[39m=\u001b[39m \u001b[39m0\u001b[39m, cpd_name_col \u001b[39m=\u001b[39m \u001b[39m'\u001b[39m\u001b[39mName\u001b[39m\u001b[39m'\u001b[39m, display_inline_candidates\u001b[39m=\u001b[39m\u001b[39mFalse\u001b[39;00m, purch_path\u001b[39m=\u001b[39m\u001b[39m'\u001b[39m\u001b[39m'\u001b[39m, purch_name_col\u001b[39m=\u001b[39m\u001b[39m'\u001b[39m\u001b[39mName\u001b[39m\u001b[39m'\u001b[39m, purch_name_needs_split\u001b[39m=\u001b[39m\u001b[39mFalse\u001b[39;00m, tested_before_path\u001b[39m=\u001b[39m\u001b[39m'\u001b[39m\u001b[39m'\u001b[39m, tested_before_name_col\u001b[39m=\u001b[39m\u001b[39m'\u001b[39m\u001b[39mName\u001b[39m\u001b[39m'\u001b[39m, tested_before_name_needs_split\u001b[39m=\u001b[39m\u001b[39mFalse\u001b[39;00m, cpd_sim_to_abx\u001b[39m=\u001b[39m\u001b[39m0\u001b[39m, cpd_sim_to_train_set\u001b[39m=\u001b[39m\u001b[39m0\u001b[39m):\n\u001b[1;32m    726\u001b[0m \n\u001b[1;32m    727\u001b[0m     \u001b[39m##### part 1: process frags and compounds #####\u001b[39;00m\n\u001b[1;32m    728\u001b[0m     \u001b[39mprint\u001b[39m(\u001b[39m'\u001b[39m\u001b[39m\\n\u001b[39;00m\u001b[39mProcessing fragments...\u001b[39m\u001b[39m'\u001b[39m)\n\u001b[0;32m--> 729\u001b[0m     df, mols, _ \u001b[39m=\u001b[39m process_dataset(frag_or_cpd\u001b[39m=\u001b[39;49m\u001b[39m'\u001b[39;49m\u001b[39mfrag\u001b[39;49m\u001b[39m'\u001b[39;49m, path\u001b[39m=\u001b[39;49mfragment_path, score\u001b[39m=\u001b[39;49mfragment_score, smi_col\u001b[39m=\u001b[39;49mfragment_smi_col, hit_col\u001b[39m=\u001b[39;49mfragment_hit_col, require_more_than_coh\u001b[39m=\u001b[39;49mfragment_require_more_than_coh, remove_pains_brenk\u001b[39m=\u001b[39;49mfragment_remove_pains_brenk, remove_patterns\u001b[39m=\u001b[39;49mfragment_remove_patterns, druglikeness_filter\u001b[39m=\u001b[39;49mfragment_druglikeness_filter)\n\u001b[1;32m    730\u001b[0m     \u001b[39mprint\u001b[39m(\u001b[39m'\u001b[39m\u001b[39m\\n\u001b[39;00m\u001b[39mProcessing compounds...\u001b[39m\u001b[39m'\u001b[39m)\n\u001b[1;32m    731\u001b[0m     cpd_df, cpd_mols, full_cpd_df \u001b[39m=\u001b[39m process_dataset(frag_or_cpd\u001b[39m=\u001b[39m\u001b[39m'\u001b[39m\u001b[39mcpd\u001b[39m\u001b[39m'\u001b[39m, path\u001b[39m=\u001b[39mcompound_path, score\u001b[39m=\u001b[39mcompound_score, smi_col\u001b[39m=\u001b[39mcompound_smi_col, hit_col\u001b[39m=\u001b[39mcompound_hit_col, require_more_than_coh\u001b[39m=\u001b[39m\u001b[39mFalse\u001b[39;00m, remove_pains_brenk\u001b[39m=\u001b[39mcompound_remove_pains_brenk, remove_patterns\u001b[39m=\u001b[39m[], druglikeness_filter\u001b[39m=\u001b[39mcompound_druglikeness_filter)\n",
      "File \u001b[0;32m~/Desktop/Spring_2023/fragments_discovery_design_ML/src/pipeline.py:143\u001b[0m, in \u001b[0;36mprocess_dataset\u001b[0;34m(frag_or_cpd, path, score, smi_col, hit_col, require_more_than_coh, remove_pains_brenk, remove_patterns, druglikeness_filter)\u001b[0m\n\u001b[1;32m    140\u001b[0m \u001b[39mdef\u001b[39;00m \u001b[39mprocess_dataset\u001b[39m(frag_or_cpd, path, score, smi_col, hit_col, require_more_than_coh, remove_pains_brenk, remove_patterns, druglikeness_filter):\n\u001b[1;32m    141\u001b[0m     \n\u001b[1;32m    142\u001b[0m     \u001b[39m# process fragments first\u001b[39;00m\n\u001b[0;32m--> 143\u001b[0m     df \u001b[39m=\u001b[39m pd\u001b[39m.\u001b[39;49mread_csv(path)\n\u001b[1;32m    144\u001b[0m     \u001b[39mprint\u001b[39m(\u001b[39m'\u001b[39m\u001b[39mlength of df: \u001b[39m\u001b[39m'\u001b[39m, \u001b[39mlen\u001b[39m(df))\n\u001b[1;32m    146\u001b[0m     \u001b[39m# keep copy of full df for cpds\u001b[39;00m\n",
      "File \u001b[0;32m~/opt/anaconda3/envs/torch_environment/lib/python3.10/site-packages/pandas/util/_decorators.py:311\u001b[0m, in \u001b[0;36mdeprecate_nonkeyword_arguments.<locals>.decorate.<locals>.wrapper\u001b[0;34m(*args, **kwargs)\u001b[0m\n\u001b[1;32m    305\u001b[0m \u001b[39mif\u001b[39;00m \u001b[39mlen\u001b[39m(args) \u001b[39m>\u001b[39m num_allow_args:\n\u001b[1;32m    306\u001b[0m     warnings\u001b[39m.\u001b[39mwarn(\n\u001b[1;32m    307\u001b[0m         msg\u001b[39m.\u001b[39mformat(arguments\u001b[39m=\u001b[39marguments),\n\u001b[1;32m    308\u001b[0m         \u001b[39mFutureWarning\u001b[39;00m,\n\u001b[1;32m    309\u001b[0m         stacklevel\u001b[39m=\u001b[39mstacklevel,\n\u001b[1;32m    310\u001b[0m     )\n\u001b[0;32m--> 311\u001b[0m \u001b[39mreturn\u001b[39;00m func(\u001b[39m*\u001b[39;49margs, \u001b[39m*\u001b[39;49m\u001b[39m*\u001b[39;49mkwargs)\n",
      "File \u001b[0;32m~/opt/anaconda3/envs/torch_environment/lib/python3.10/site-packages/pandas/io/parsers/readers.py:680\u001b[0m, in \u001b[0;36mread_csv\u001b[0;34m(filepath_or_buffer, sep, delimiter, header, names, index_col, usecols, squeeze, prefix, mangle_dupe_cols, dtype, engine, converters, true_values, false_values, skipinitialspace, skiprows, skipfooter, nrows, na_values, keep_default_na, na_filter, verbose, skip_blank_lines, parse_dates, infer_datetime_format, keep_date_col, date_parser, dayfirst, cache_dates, iterator, chunksize, compression, thousands, decimal, lineterminator, quotechar, quoting, doublequote, escapechar, comment, encoding, encoding_errors, dialect, error_bad_lines, warn_bad_lines, on_bad_lines, delim_whitespace, low_memory, memory_map, float_precision, storage_options)\u001b[0m\n\u001b[1;32m    665\u001b[0m kwds_defaults \u001b[39m=\u001b[39m _refine_defaults_read(\n\u001b[1;32m    666\u001b[0m     dialect,\n\u001b[1;32m    667\u001b[0m     delimiter,\n\u001b[0;32m   (...)\u001b[0m\n\u001b[1;32m    676\u001b[0m     defaults\u001b[39m=\u001b[39m{\u001b[39m\"\u001b[39m\u001b[39mdelimiter\u001b[39m\u001b[39m\"\u001b[39m: \u001b[39m\"\u001b[39m\u001b[39m,\u001b[39m\u001b[39m\"\u001b[39m},\n\u001b[1;32m    677\u001b[0m )\n\u001b[1;32m    678\u001b[0m kwds\u001b[39m.\u001b[39mupdate(kwds_defaults)\n\u001b[0;32m--> 680\u001b[0m \u001b[39mreturn\u001b[39;00m _read(filepath_or_buffer, kwds)\n",
      "File \u001b[0;32m~/opt/anaconda3/envs/torch_environment/lib/python3.10/site-packages/pandas/io/parsers/readers.py:581\u001b[0m, in \u001b[0;36m_read\u001b[0;34m(filepath_or_buffer, kwds)\u001b[0m\n\u001b[1;32m    578\u001b[0m     \u001b[39mreturn\u001b[39;00m parser\n\u001b[1;32m    580\u001b[0m \u001b[39mwith\u001b[39;00m parser:\n\u001b[0;32m--> 581\u001b[0m     \u001b[39mreturn\u001b[39;00m parser\u001b[39m.\u001b[39;49mread(nrows)\n",
      "File \u001b[0;32m~/opt/anaconda3/envs/torch_environment/lib/python3.10/site-packages/pandas/io/parsers/readers.py:1254\u001b[0m, in \u001b[0;36mTextFileReader.read\u001b[0;34m(self, nrows)\u001b[0m\n\u001b[1;32m   1252\u001b[0m nrows \u001b[39m=\u001b[39m validate_integer(\u001b[39m\"\u001b[39m\u001b[39mnrows\u001b[39m\u001b[39m\"\u001b[39m, nrows)\n\u001b[1;32m   1253\u001b[0m \u001b[39mtry\u001b[39;00m:\n\u001b[0;32m-> 1254\u001b[0m     index, columns, col_dict \u001b[39m=\u001b[39m \u001b[39mself\u001b[39;49m\u001b[39m.\u001b[39;49m_engine\u001b[39m.\u001b[39;49mread(nrows)\n\u001b[1;32m   1255\u001b[0m \u001b[39mexcept\u001b[39;00m \u001b[39mException\u001b[39;00m:\n\u001b[1;32m   1256\u001b[0m     \u001b[39mself\u001b[39m\u001b[39m.\u001b[39mclose()\n",
      "File \u001b[0;32m~/opt/anaconda3/envs/torch_environment/lib/python3.10/site-packages/pandas/io/parsers/c_parser_wrapper.py:225\u001b[0m, in \u001b[0;36mCParserWrapper.read\u001b[0;34m(self, nrows)\u001b[0m\n\u001b[1;32m    223\u001b[0m \u001b[39mtry\u001b[39;00m:\n\u001b[1;32m    224\u001b[0m     \u001b[39mif\u001b[39;00m \u001b[39mself\u001b[39m\u001b[39m.\u001b[39mlow_memory:\n\u001b[0;32m--> 225\u001b[0m         chunks \u001b[39m=\u001b[39m \u001b[39mself\u001b[39;49m\u001b[39m.\u001b[39;49m_reader\u001b[39m.\u001b[39;49mread_low_memory(nrows)\n\u001b[1;32m    226\u001b[0m         \u001b[39m# destructive to chunks\u001b[39;00m\n\u001b[1;32m    227\u001b[0m         data \u001b[39m=\u001b[39m _concatenate_chunks(chunks)\n",
      "File \u001b[0;32m~/opt/anaconda3/envs/torch_environment/lib/python3.10/site-packages/pandas/_libs/parsers.pyx:805\u001b[0m, in \u001b[0;36mpandas._libs.parsers.TextReader.read_low_memory\u001b[0;34m()\u001b[0m\n",
      "File \u001b[0;32m~/opt/anaconda3/envs/torch_environment/lib/python3.10/site-packages/pandas/_libs/parsers.pyx:861\u001b[0m, in \u001b[0;36mpandas._libs.parsers.TextReader._read_rows\u001b[0;34m()\u001b[0m\n",
      "File \u001b[0;32m~/opt/anaconda3/envs/torch_environment/lib/python3.10/site-packages/pandas/_libs/parsers.pyx:847\u001b[0m, in \u001b[0;36mpandas._libs.parsers.TextReader._tokenize_rows\u001b[0;34m()\u001b[0m\n",
      "File \u001b[0;32m~/opt/anaconda3/envs/torch_environment/lib/python3.10/site-packages/pandas/_libs/parsers.pyx:1960\u001b[0m, in \u001b[0;36mpandas._libs.parsers.raise_parser_error\u001b[0;34m()\u001b[0m\n",
      "\u001b[0;31mParserError\u001b[0m: Error tokenizing data. C error: Calling read(nbytes) on source failed. Try engine='python'."
     ]
    }
   ],
   "source": [
    "run_pipeline(fragment_path=fragment_path, compound_path=compound_path, result_path=result_path, fragment_smi_col=fragment_smi_col, compound_smi_col=compound_smi_col, fragment_hit_col=fragment_hit_col, compound_hit_col=compound_hit_col, fragment_score=fragment_score, compound_score=compound_score, fragment_require_more_than_coh=fragment_require_more_than_coh, fragment_remove_pains_brenk=fragment_remove_pains_brenk, compound_remove_pains_brenk=compound_remove_pains_brenk, fragment_druglikeness_filter=fragment_druglikeness_filter, compound_druglikeness_filter=compound_druglikeness_filter, fragment_remove_patterns=fragment_remove_patterns, frags_cannot_disrupt_rings=frags_cannot_disrupt_rings, fragment_length_threshold=fragment_length_threshold, toxicity_threshold_if_present=toxicity_threshold_if_present, toxicity_threshold_require_presence=toxicity_threshold_require_presence, abx_path=abx_path, abx_smiles_col=abx_smiles_col, abx_name_col=abx_name_col, train_set_path=train_set_path, train_set_smiles_col=train_set_smiles_col, train_set_name_col=train_set_name_col, analogues_pval_diff_thresh=analogues_pval_diff_thresh, analogues_absolute_diff_thresh=analogues_absolute_diff_thresh, cpd_name_col=cpd_name_col, display_inline_candidates=display_inline_candidates, purch_path=purch_path, purch_name_col=purch_name_col, purch_name_needs_split=purch_name_needs_split, cpd_sim_to_abx=cpd_sim_to_abx, cpd_sim_to_train_set=cpd_sim_to_train_set)"
   ]
  }
 ],
 "metadata": {
  "kernelspec": {
   "display_name": "Python 3 (ipykernel)",
   "language": "python",
   "name": "python3"
  },
  "language_info": {
   "codemirror_mode": {
    "name": "ipython",
    "version": 3
   },
   "file_extension": ".py",
   "mimetype": "text/x-python",
   "name": "python",
   "nbconvert_exporter": "python",
   "pygments_lexer": "ipython3",
   "version": "3.10.4"
  }
 },
 "nbformat": 4,
 "nbformat_minor": 4
}

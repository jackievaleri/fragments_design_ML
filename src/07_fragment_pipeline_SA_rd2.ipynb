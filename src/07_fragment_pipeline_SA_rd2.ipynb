{
 "cells": [
  {
   "cell_type": "code",
   "execution_count": 1,
   "metadata": {},
   "outputs": [
    {
     "name": "stderr",
     "output_type": "stream",
     "text": [
      "/Users/jackie16201/opt/anaconda3/envs/torch_environment/lib/python3.10/site-packages/tqdm/auto.py:22: TqdmWarning: IProgress not found. Please update jupyter and ipywidgets. See https://ipywidgets.readthedocs.io/en/stable/user_install.html\n",
      "  from .autonotebook import tqdm as notebook_tqdm\n",
      "/Users/jackie16201/Desktop/Spring_2023/fragments_discovery_design_ML/src/pipeline.py:12: DeprecationWarning: The rdkit.Chem.MCS module is deprecated; please use rdkit.Chem.rdFMCS instead.\n",
      "  from rdkit.Chem import MCS\n"
     ]
    }
   ],
   "source": [
    "%matplotlib inline\n",
    "import pandas as pd\n",
    "from pipeline import run_pipeline\n",
    "# JV note: recapitulates 13.1_fragment_prioritization_pipeline_v5_script_0.05_17atom_on_800K_and_orderable and out/pipeline_v5_script/frag_0.05_17atom_800K_and_5mil;"
   ]
  },
  {
   "cell_type": "code",
   "execution_count": 2,
   "metadata": {},
   "outputs": [
    {
     "name": "stderr",
     "output_type": "stream",
     "text": [
      "/var/folders/py/8hwb28r933z4xh4q0dw5hz2h0000gn/T/ipykernel_36804/1561465519.py:10: DtypeWarning: Columns (1,2,3) have mixed types. Specify dtype option on import or set low_memory=False.\n",
      "  orderable = pd.read_csv('../out/model_preds_on_frags_and_cpds/SA/combined_orderable_5mil_preds_08_01_2022.csv')\n",
      "/var/folders/py/8hwb28r933z4xh4q0dw5hz2h0000gn/T/ipykernel_36804/1561465519.py:16: FutureWarning: The frame.append method is deprecated and will be removed from pandas in a future version. Use pandas.concat instead.\n",
      "  full_cpd_df = broad800k.append(orderable)\n"
     ]
    }
   ],
   "source": [
    "# save metadata\n",
    "broad800k = pd.read_csv('../out/model_preds_on_frags_and_cpds/SA/combined_broad_preds_05_20_2022.csv')\n",
    "metadata = pd.read_csv('../data/static_datasets/PublicStructures.txt', sep = '\\t')\n",
    "broad800k = broad800k.merge(metadata, left_on = 'smiles', right_on = 'SMILES', how = 'left')\n",
    "broad800k = broad800k.drop_duplicates('smiles')\n",
    "broad800k = broad800k[['smiles', 'Name', 'ACTIVITY']]\n",
    "broad800k.to_csv('../out/model_preds_on_frags_and_cpds/SA/combined_broad_preds_with_metadata_05_20_2022.csv')\n",
    "\n",
    "# orderable 5 mil molecules\n",
    "orderable = pd.read_csv('../out/model_preds_on_frags_and_cpds/SA/combined_orderable_5mil_preds_08_01_2022.csv')\n",
    "orderable['smiles'] = orderable['SMILES']\n",
    "orderable['Name'] = orderable['Database']\n",
    "orderable = orderable[['smiles', 'Name', 'ACTIVITY']]\n",
    "\n",
    "# combine them\n",
    "full_cpd_df = broad800k.append(orderable)\n",
    "full_cpd_df.to_csv('../out/model_preds_on_frags_and_cpds/SA/combined_broad_preds_and_5mil_orderable_preds.csv', index = False)"
   ]
  },
  {
   "cell_type": "code",
   "execution_count": 3,
   "metadata": {},
   "outputs": [],
   "source": [
    "# ACTUAL VALUES for SA round 2\n",
    "\n",
    "# values for processing fragments and compounds\n",
    "fragment_path = '../out/model_preds_on_frags_and_cpds/SA/FINISHED_combined_fragment_preds_gdb17_07_05_2022.csv'\n",
    "compound_path = '../out/model_preds_on_frags_and_cpds/SA/combined_broad_preds_and_5mil_orderable_preds.csv'\n",
    "result_path = '../out/fragment_algorithm_pipeline_runs/07_SA_rd2/'\n",
    "fragment_smi_col = 'SMILES'\n",
    "compound_smi_col = 'smiles'\n",
    "fragment_hit_col = 'ACTIVITY'\n",
    "compound_hit_col = 'ACTIVITY'\n",
    "cpd_name_col = 'Name'\n",
    "\n",
    "# filters and thresholds for fragments and compounds\n",
    "fragment_score = 0.05\n",
    "compound_score = 0.2\n",
    "fragment_remove_pains_brenk = 'both' # one of 'both', 'pains', 'brenk', 'none'\n",
    "compound_remove_pains_brenk = 'both' # one of 'both', 'pains', 'brenk', 'none'\n",
    "fragment_druglikeness_filter = [] # list containing 'egan', 'ghose', 'lipinski', 'muegge'\n",
    "compound_druglikeness_filter = [] # list containing 'egan', 'ghose', 'lipinski', 'muegge'\n",
    "fragment_require_more_than_coh = True\n",
    "fragment_remove_patterns = []\n",
    "\n",
    "# input for matching and comparison to existing datasets\n",
    "frags_cannot_disrupt_rings = True\n",
    "fragment_length_threshold = 0 # must be bigger than 0\n",
    "display_inline_candidates = True\n",
    "analogues_pval_diff_thresh = 0\n",
    "analogues_absolute_diff_thresh = 0.05\n",
    "\n",
    "# toxicity\n",
    "toxicity_threshold_if_present = 0.5\n",
    "toxicity_threshold_require_presence = False\n",
    "\n",
    "# antibiotics\n",
    "abx_path = '../data/static_datasets/04052022_CLEANED_v5_antibiotics_across_many_classes.csv'\n",
    "abx_smiles_col = 'Smiles'\n",
    "abx_name_col = 'Name'\n",
    "cpd_sim_to_abx = 0\n",
    "\n",
    "# training set\n",
    "train_set_path = '../data/training_data/SA/37K_sa_screen.csv'\n",
    "train_set_smiles_col = 'SMILES'\n",
    "train_set_name_col = 'Compound_ID'\n",
    "cpd_sim_to_train_set = 0\n",
    "\n",
    "# purchasable libraries\n",
    "purch_path = ''\n",
    "purch_name_col = 'BROADID'\n",
    "purch_name_needs_split = False\n",
    "\n",
    "# tested before libraries - can be more expansive than train set\n",
    "tested_before_path = ''\n",
    "tested_before_name_col = 'Name'\n",
    "tested_before_name_needs_split = False"
   ]
  },
  {
   "cell_type": "code",
   "execution_count": 4,
   "metadata": {},
   "outputs": [
    {
     "name": "stdout",
     "output_type": "stream",
     "text": [
      "\n",
      "Processing fragments...\n",
      "length of df:  60351204\n",
      "length of df >0.05:  977571\n",
      "length of df with more than C,O,H characters:  864846\n",
      "length of df with valid mols:  864846\n",
      "length of all preds with clean (no PAINS or Brenk) mols:  329217\n",
      "\n",
      "Processing compounds...\n"
     ]
    },
    {
     "name": "stderr",
     "output_type": "stream",
     "text": [
      "/Users/jackie16201/Desktop/Spring_2023/fragments_discovery_design_ML/src/pipeline.py:144: DtypeWarning: Columns (1,2) have mixed types. Specify dtype option on import or set low_memory=False.\n",
      "  df = pd.read_csv(path)\n"
     ]
    },
    {
     "name": "stdout",
     "output_type": "stream",
     "text": [
      "length of df:  6138200\n",
      "length of df >0.2:  103904\n",
      "length of df with valid mols:  103904\n",
      "length of all preds with clean (no PAINS or Brenk) mols:  64956\n",
      "\n",
      "Matching fragments in compounds...\n",
      "number of matched fragments:  49\n",
      "Previewing dataframe so far...\n"
     ]
    },
    {
     "data": {
      "text/html": [
       "<div>\n",
       "<style scoped>\n",
       "    .dataframe tbody tr th:only-of-type {\n",
       "        vertical-align: middle;\n",
       "    }\n",
       "\n",
       "    .dataframe tbody tr th {\n",
       "        vertical-align: top;\n",
       "    }\n",
       "\n",
       "    .dataframe thead th {\n",
       "        text-align: right;\n",
       "    }\n",
       "</style>\n",
       "<table border=\"1\" class=\"dataframe\">\n",
       "  <thead>\n",
       "    <tr style=\"text-align: right;\">\n",
       "      <th></th>\n",
       "      <th>matched_fragments</th>\n",
       "      <th>fragment_SMILES</th>\n",
       "      <th>length_of_fragment</th>\n",
       "      <th>matched_molecules</th>\n",
       "      <th>number_of_matched_molecules</th>\n",
       "      <th>fragment_scores</th>\n",
       "      <th>full_molecule_scores</th>\n",
       "      <th>average_molecule_score</th>\n",
       "    </tr>\n",
       "  </thead>\n",
       "  <tbody>\n",
       "    <tr>\n",
       "      <th>20</th>\n",
       "      <td>327209</td>\n",
       "      <td>C(C1=CNC=C1)C1=CC=CC=C1</td>\n",
       "      <td>12</td>\n",
       "      <td>[760, 782, 1627, 2023, 2097, 3662, 9516, 9520,...</td>\n",
       "      <td>65</td>\n",
       "      <td>0.064276</td>\n",
       "      <td>[0.2921388417482376, 0.2420136604458093, 0.200...</td>\n",
       "      <td>0.251120</td>\n",
       "    </tr>\n",
       "    <tr>\n",
       "      <th>7</th>\n",
       "      <td>198776</td>\n",
       "      <td>C(C1=CNC2=C1C=CC=C2)C1=CC=CC=C1</td>\n",
       "      <td>16</td>\n",
       "      <td>[3662, 9516, 9520, 9527, 9530, 11068, 13689, 1...</td>\n",
       "      <td>46</td>\n",
       "      <td>0.051933</td>\n",
       "      <td>[0.2012329246848821, 0.2709223531186581, 0.221...</td>\n",
       "      <td>0.245105</td>\n",
       "    </tr>\n",
       "    <tr>\n",
       "      <th>18</th>\n",
       "      <td>326791</td>\n",
       "      <td>C(C1=CNC=C1)C1=CNC=C1</td>\n",
       "      <td>11</td>\n",
       "      <td>[3343, 9516, 9520, 9527, 9530, 11068, 13689, 1...</td>\n",
       "      <td>15</td>\n",
       "      <td>0.067584</td>\n",
       "      <td>[0.2801198996603489, 0.2709223531186581, 0.221...</td>\n",
       "      <td>0.238139</td>\n",
       "    </tr>\n",
       "    <tr>\n",
       "      <th>1</th>\n",
       "      <td>147573</td>\n",
       "      <td>CCCNC1=CC(OC)=C(Cl)C=C1OC</td>\n",
       "      <td>15</td>\n",
       "      <td>[3263, 8273, 8686, 9301, 9889, 10087, 12853, 1...</td>\n",
       "      <td>14</td>\n",
       "      <td>0.088185</td>\n",
       "      <td>[0.2803342677652836, 0.2286634303629398, 0.285...</td>\n",
       "      <td>0.247938</td>\n",
       "    </tr>\n",
       "    <tr>\n",
       "      <th>19</th>\n",
       "      <td>327129</td>\n",
       "      <td>CC1CN2C(CC2=O)S1(=O)=O</td>\n",
       "      <td>11</td>\n",
       "      <td>[2420, 11404, 14566, 14569, 14631, 14633, 1463...</td>\n",
       "      <td>10</td>\n",
       "      <td>0.061347</td>\n",
       "      <td>[0.5304279872449115, 0.3757471784949303, 0.530...</td>\n",
       "      <td>0.454652</td>\n",
       "    </tr>\n",
       "  </tbody>\n",
       "</table>\n",
       "</div>"
      ],
      "text/plain": [
       "    matched_fragments                  fragment_SMILES  length_of_fragment  \\\n",
       "20             327209          C(C1=CNC=C1)C1=CC=CC=C1                  12   \n",
       "7              198776  C(C1=CNC2=C1C=CC=C2)C1=CC=CC=C1                  16   \n",
       "18             326791            C(C1=CNC=C1)C1=CNC=C1                  11   \n",
       "1              147573        CCCNC1=CC(OC)=C(Cl)C=C1OC                  15   \n",
       "19             327129           CC1CN2C(CC2=O)S1(=O)=O                  11   \n",
       "\n",
       "                                    matched_molecules  \\\n",
       "20  [760, 782, 1627, 2023, 2097, 3662, 9516, 9520,...   \n",
       "7   [3662, 9516, 9520, 9527, 9530, 11068, 13689, 1...   \n",
       "18  [3343, 9516, 9520, 9527, 9530, 11068, 13689, 1...   \n",
       "1   [3263, 8273, 8686, 9301, 9889, 10087, 12853, 1...   \n",
       "19  [2420, 11404, 14566, 14569, 14631, 14633, 1463...   \n",
       "\n",
       "    number_of_matched_molecules  fragment_scores  \\\n",
       "20                           65         0.064276   \n",
       "7                            46         0.051933   \n",
       "18                           15         0.067584   \n",
       "1                            14         0.088185   \n",
       "19                           10         0.061347   \n",
       "\n",
       "                                 full_molecule_scores  average_molecule_score  \n",
       "20  [0.2921388417482376, 0.2420136604458093, 0.200...                0.251120  \n",
       "7   [0.2012329246848821, 0.2709223531186581, 0.221...                0.245105  \n",
       "18  [0.2801198996603489, 0.2709223531186581, 0.221...                0.238139  \n",
       "1   [0.2803342677652836, 0.2286634303629398, 0.285...                0.247938  \n",
       "19  [0.5304279872449115, 0.3757471784949303, 0.530...                0.454652  "
      ]
     },
     "metadata": {},
     "output_type": "display_data"
    },
    {
     "name": "stderr",
     "output_type": "stream",
     "text": [
      "/Users/jackie16201/opt/anaconda3/envs/torch_environment/lib/python3.10/site-packages/numpy/core/fromnumeric.py:3474: RuntimeWarning: Mean of empty slice.\n",
      "  return _methods._mean(a, axis=axis, dtype=dtype,\n",
      "/Users/jackie16201/opt/anaconda3/envs/torch_environment/lib/python3.10/site-packages/numpy/core/_methods.py:189: RuntimeWarning: invalid value encountered in double_scalars\n",
      "  ret = ret.dtype.type(ret / rcount)\n",
      "/Users/jackie16201/opt/anaconda3/envs/torch_environment/lib/python3.10/site-packages/numpy/core/fromnumeric.py:3474: RuntimeWarning: Mean of empty slice.\n",
      "  return _methods._mean(a, axis=axis, dtype=dtype,\n",
      "/Users/jackie16201/opt/anaconda3/envs/torch_environment/lib/python3.10/site-packages/numpy/core/_methods.py:189: RuntimeWarning: invalid value encountered in double_scalars\n",
      "  ret = ret.dtype.type(ret / rcount)\n"
     ]
    },
    {
     "name": "stdout",
     "output_type": "stream",
     "text": [
      "number of fragments passing both toxicity filters under 0.5: 24\n",
      "number of abx:  566\n",
      "number of train set molecules:  36977\n",
      "Checking analogues of compounds with and without fragments...\n"
     ]
    },
    {
     "name": "stderr",
     "output_type": "stream",
     "text": [
      "24it [4:57:10, 742.93s/it]\n",
      "/Users/jackie16201/opt/anaconda3/envs/torch_environment/lib/python3.10/site-packages/numpy/core/fromnumeric.py:3474: RuntimeWarning: Mean of empty slice.\n",
      "  return _methods._mean(a, axis=axis, dtype=dtype,\n",
      "/Users/jackie16201/opt/anaconda3/envs/torch_environment/lib/python3.10/site-packages/numpy/core/_methods.py:189: RuntimeWarning: invalid value encountered in double_scalars\n",
      "  ret = ret.dtype.type(ret / rcount)\n",
      "/Users/jackie16201/opt/anaconda3/envs/torch_environment/lib/python3.10/site-packages/numpy/core/fromnumeric.py:3757: RuntimeWarning: Degrees of freedom <= 0 for slice\n",
      "  return _methods._var(a, axis=axis, dtype=dtype, out=out, ddof=ddof,\n",
      "/Users/jackie16201/opt/anaconda3/envs/torch_environment/lib/python3.10/site-packages/numpy/core/_methods.py:256: RuntimeWarning: invalid value encountered in double_scalars\n",
      "  ret = ret.dtype.type(ret / rcount)\n"
     ]
    },
    {
     "name": "stdout",
     "output_type": "stream",
     "text": [
      "number of fragments with >0.05 (or n/a) absolute value difference between analogues w/ and w/o frag:  17\n",
      "-------------------------------------------------------------------\n",
      "candidate:  0\n",
      "SMILES:  C(C1=CNC=C1)C1=CC=CC=C1\n",
      "fragment index: 327209\n"
     ]
    },
    {
     "data": {
      "image/png": "[encoded data removed]",
      "text/html": [
       "<table><tr><td colspan=\"2\" style=\"text-align: center;\"><image src=\"data:image/png;base64,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\"></td></tr>\n",
       "<tr><th style=\"text-align: right\">SMILES</th><td style=\"text-align: left\">C(C1=CNC=C1)C1=CC=CC=C1</td></tr></table>"
      ],
      "text/plain": [
       "<rdkit.Chem.rdchem.Mol at 0x2d5bdac00>"
      ]
     },
     "metadata": {},
     "output_type": "display_data"
    },
    {
     "name": "stdout",
     "output_type": "stream",
     "text": [
      "fragment score:  0.064\n",
      "average matched molecule score:  0.251\n",
      "number of matched broad800k molecules:  65\n",
      "average matched hepg2 growth:  1.022\n",
      "average matched primary growth:  1.014\n",
      "length of fragment:  12\n",
      "matching abx\n"
     ]
    },
    {
     "ename": "RuntimeError",
     "evalue": "Pre-condition Violation\n\tno draw context\n\tViolation occurred on line 214 in file Code/GraphMol/MolDraw2D/MolDraw2DCairo.cpp\n\tFailed Expression: dp_cr\n\tRDKIT: 2022.09.3\n\tBOOST: 1_78\n",
     "output_type": "error",
     "traceback": [
      "\u001b[0;31m---------------------------------------------------------------------------\u001b[0m",
      "\u001b[0;31mRuntimeError\u001b[0m                              Traceback (most recent call last)",
      "\u001b[1;32m/Users/jackie16201/Desktop/Spring_2023/fragments_discovery_design_ML/src/07_fragment_pipeline_SA_rd2.ipynb Cell 4\u001b[0m in \u001b[0;36m<cell line: 1>\u001b[0;34m()\u001b[0m\n\u001b[0;32m----> <a href='vscode-notebook-cell:/Users/jackie16201/Desktop/Spring_2023/fragments_discovery_design_ML/src/07_fragment_pipeline_SA_rd2.ipynb#W3sZmlsZQ%3D%3D?line=0'>1</a>\u001b[0m run_pipeline(fragment_path\u001b[39m=\u001b[39;49mfragment_path, compound_path\u001b[39m=\u001b[39;49mcompound_path, result_path\u001b[39m=\u001b[39;49mresult_path, fragment_smi_col\u001b[39m=\u001b[39;49mfragment_smi_col, compound_smi_col\u001b[39m=\u001b[39;49mcompound_smi_col, fragment_hit_col\u001b[39m=\u001b[39;49mfragment_hit_col, compound_hit_col\u001b[39m=\u001b[39;49mcompound_hit_col, fragment_score\u001b[39m=\u001b[39;49mfragment_score, compound_score\u001b[39m=\u001b[39;49mcompound_score, fragment_require_more_than_coh\u001b[39m=\u001b[39;49mfragment_require_more_than_coh, fragment_remove_pains_brenk\u001b[39m=\u001b[39;49mfragment_remove_pains_brenk, compound_remove_pains_brenk\u001b[39m=\u001b[39;49mcompound_remove_pains_brenk, fragment_druglikeness_filter\u001b[39m=\u001b[39;49mfragment_druglikeness_filter, compound_druglikeness_filter\u001b[39m=\u001b[39;49mcompound_druglikeness_filter, fragment_remove_patterns\u001b[39m=\u001b[39;49mfragment_remove_patterns, frags_cannot_disrupt_rings\u001b[39m=\u001b[39;49mfrags_cannot_disrupt_rings, fragment_length_threshold\u001b[39m=\u001b[39;49mfragment_length_threshold, toxicity_threshold_if_present\u001b[39m=\u001b[39;49mtoxicity_threshold_if_present, toxicity_threshold_require_presence\u001b[39m=\u001b[39;49mtoxicity_threshold_require_presence, abx_path\u001b[39m=\u001b[39;49mabx_path, abx_smiles_col\u001b[39m=\u001b[39;49mabx_smiles_col, abx_name_col\u001b[39m=\u001b[39;49mabx_name_col, train_set_path\u001b[39m=\u001b[39;49mtrain_set_path, train_set_smiles_col\u001b[39m=\u001b[39;49mtrain_set_smiles_col, train_set_name_col\u001b[39m=\u001b[39;49mtrain_set_name_col, analogues_pval_diff_thresh\u001b[39m=\u001b[39;49manalogues_pval_diff_thresh, analogues_absolute_diff_thresh\u001b[39m=\u001b[39;49manalogues_absolute_diff_thresh, cpd_name_col\u001b[39m=\u001b[39;49mcpd_name_col, display_inline_candidates\u001b[39m=\u001b[39;49mdisplay_inline_candidates, purch_path\u001b[39m=\u001b[39;49mpurch_path, purch_name_col\u001b[39m=\u001b[39;49mpurch_name_col, purch_name_needs_split\u001b[39m=\u001b[39;49mpurch_name_needs_split, cpd_sim_to_abx\u001b[39m=\u001b[39;49mcpd_sim_to_abx, cpd_sim_to_train_set\u001b[39m=\u001b[39;49mcpd_sim_to_train_set)\n",
      "File \u001b[0;32m~/Desktop/Spring_2023/fragments_discovery_design_ML/src/pipeline.py:880\u001b[0m, in \u001b[0;36mrun_pipeline\u001b[0;34m(fragment_path, compound_path, result_path, fragment_smi_col, compound_smi_col, fragment_hit_col, compound_hit_col, fragment_score, compound_score, fragment_require_more_than_coh, fragment_remove_pains_brenk, compound_remove_pains_brenk, fragment_druglikeness_filter, compound_druglikeness_filter, fragment_remove_patterns, frags_cannot_disrupt_rings, fragment_length_threshold, toxicity_threshold_if_present, toxicity_threshold_require_presence, abx_path, abx_smiles_col, abx_name_col, train_set_path, train_set_smiles_col, train_set_name_col, train_set_just_actives, train_set_hit_col, train_set_thresh, train_set_greater_than, analogues_pval_diff_thresh, analogues_absolute_diff_thresh, cpd_name_col, display_inline_candidates, purch_path, purch_name_col, purch_name_needs_split, tested_before_path, tested_before_name_col, tested_before_name_needs_split, cpd_sim_to_abx, cpd_sim_to_train_set)\u001b[0m\n\u001b[1;32m    878\u001b[0m candidate_folder \u001b[39m=\u001b[39m result_path \u001b[39m+\u001b[39m \u001b[39m'\u001b[39m\u001b[39mcandidate_info/\u001b[39m\u001b[39m'\u001b[39m\n\u001b[1;32m    879\u001b[0m os\u001b[39m.\u001b[39mmkdir(candidate_folder)\n\u001b[0;32m--> 880\u001b[0m plot_final_fragments_with_all_info(rank_df, candidate_folder, mols, cpd_mols, cpd_names, abx_mols, abx_names, ts_mols, ts_names, display_inline_candidates)        \n\u001b[1;32m    882\u001b[0m \u001b[39m##### part 6: save relevant information #####\u001b[39;00m\n\u001b[1;32m    883\u001b[0m \u001b[39m# get the final matching molecules for saving\u001b[39;00m\n\u001b[1;32m    884\u001b[0m all_matching_mol_indices \u001b[39m=\u001b[39m [x \u001b[39mfor\u001b[39;00m l \u001b[39min\u001b[39;00m \u001b[39mlist\u001b[39m(rank_df[\u001b[39m'\u001b[39m\u001b[39mmatched_molecules\u001b[39m\u001b[39m'\u001b[39m]) \u001b[39mfor\u001b[39;00m x \u001b[39min\u001b[39;00m l]\n",
      "File \u001b[0;32m~/Desktop/Spring_2023/fragments_discovery_design_ML/src/pipeline.py:579\u001b[0m, in \u001b[0;36mplot_final_fragments_with_all_info\u001b[0;34m(df, output_folder, frags, cpd_mols, cpd_names, abx_mols, abx_names, ts_mols, ts_names, display_inline_candidates, plot_neighborhoods)\u001b[0m\n\u001b[1;32m    577\u001b[0m     abx_index_list \u001b[39m=\u001b[39m row[\u001b[39m'\u001b[39m\u001b[39mmatched_antibiotics\u001b[39m\u001b[39m'\u001b[39m]\n\u001b[1;32m    578\u001b[0m     \u001b[39mprint\u001b[39m(\u001b[39m'\u001b[39m\u001b[39mmatching abx\u001b[39m\u001b[39m'\u001b[39m)\n\u001b[0;32m--> 579\u001b[0m     img\u001b[39m=\u001b[39mDraw\u001b[39m.\u001b[39;49mMolsToGridImage([m \u001b[39mfor\u001b[39;49;00m i,m \u001b[39min\u001b[39;49;00m \u001b[39menumerate\u001b[39;49m(abx_mols) \u001b[39mif\u001b[39;49;00m i \u001b[39min\u001b[39;49;00m abx_index_list], molsPerRow\u001b[39m=\u001b[39;49m\u001b[39m10\u001b[39;49m,maxMols\u001b[39m=\u001b[39;49m\u001b[39m100\u001b[39;49m, legends \u001b[39m=\u001b[39;49m [\u001b[39mstr\u001b[39;49m(abx_names[i]) \u001b[39mfor\u001b[39;49;00m i \u001b[39min\u001b[39;49;00m abx_index_list])\n\u001b[1;32m    580\u001b[0m     display(img)\n\u001b[1;32m    581\u001b[0m \u001b[39melif\u001b[39;00m display_inline_candidates:\n",
      "File \u001b[0;32m~/opt/anaconda3/envs/torch_environment/lib/python3.10/site-packages/rdkit/Chem/Draw/IPythonConsole.py:268\u001b[0m, in \u001b[0;36mShowMols\u001b[0;34m(mols, maxMols, **kwargs)\u001b[0m\n\u001b[1;32m    265\u001b[0m \u001b[39mif\u001b[39;00m \u001b[39m\"\u001b[39m\u001b[39mdrawOptions\u001b[39m\u001b[39m\"\u001b[39m \u001b[39mnot\u001b[39;00m \u001b[39min\u001b[39;00m kwargs:\n\u001b[1;32m    266\u001b[0m   kwargs[\u001b[39m\"\u001b[39m\u001b[39mdrawOptions\u001b[39m\u001b[39m\"\u001b[39m] \u001b[39m=\u001b[39m drawOptions\n\u001b[0;32m--> 268\u001b[0m res \u001b[39m=\u001b[39m fn(mols, \u001b[39m*\u001b[39;49m\u001b[39m*\u001b[39;49mkwargs)\n\u001b[1;32m    269\u001b[0m \u001b[39mif\u001b[39;00m InteractiveRenderer\u001b[39m.\u001b[39misEnabled():\n\u001b[1;32m    270\u001b[0m   \u001b[39mreturn\u001b[39;00m HTML(res)\n",
      "File \u001b[0;32m~/opt/anaconda3/envs/torch_environment/lib/python3.10/site-packages/rdkit/Chem/Draw/__init__.py:622\u001b[0m, in \u001b[0;36mMolsToGridImage\u001b[0;34m(mols, molsPerRow, subImgSize, legends, highlightAtomLists, highlightBondLists, useSVG, returnPNG, **kwargs)\u001b[0m\n\u001b[1;32m    618\u001b[0m   \u001b[39mreturn\u001b[39;00m _MolsToGridSVG(mols, molsPerRow\u001b[39m=\u001b[39mmolsPerRow, subImgSize\u001b[39m=\u001b[39msubImgSize, legends\u001b[39m=\u001b[39mlegends,\n\u001b[1;32m    619\u001b[0m                         highlightAtomLists\u001b[39m=\u001b[39mhighlightAtomLists,\n\u001b[1;32m    620\u001b[0m                         highlightBondLists\u001b[39m=\u001b[39mhighlightBondLists, \u001b[39m*\u001b[39m\u001b[39m*\u001b[39mkwargs)\n\u001b[1;32m    621\u001b[0m \u001b[39melse\u001b[39;00m:\n\u001b[0;32m--> 622\u001b[0m   \u001b[39mreturn\u001b[39;00m _MolsToGridImage(mols, molsPerRow\u001b[39m=\u001b[39;49mmolsPerRow, subImgSize\u001b[39m=\u001b[39;49msubImgSize, legends\u001b[39m=\u001b[39;49mlegends,\n\u001b[1;32m    623\u001b[0m                           highlightAtomLists\u001b[39m=\u001b[39;49mhighlightAtomLists,\n\u001b[1;32m    624\u001b[0m                           highlightBondLists\u001b[39m=\u001b[39;49mhighlightBondLists, returnPNG\u001b[39m=\u001b[39;49mreturnPNG, \u001b[39m*\u001b[39;49m\u001b[39m*\u001b[39;49mkwargs)\n",
      "File \u001b[0;32m~/opt/anaconda3/envs/torch_environment/lib/python3.10/site-packages/rdkit/Chem/Draw/__init__.py:571\u001b[0m, in \u001b[0;36m_MolsToGridImage\u001b[0;34m(mols, molsPerRow, subImgSize, legends, highlightAtomLists, highlightBondLists, drawOptions, returnPNG, **kwargs)\u001b[0m\n\u001b[1;32m    569\u001b[0m     res \u001b[39m=\u001b[39m _drawerToImage(d2d)\n\u001b[1;32m    570\u001b[0m   \u001b[39melse\u001b[39;00m:\n\u001b[0;32m--> 571\u001b[0m     res \u001b[39m=\u001b[39m d2d\u001b[39m.\u001b[39;49mGetDrawingText()\n\u001b[1;32m    573\u001b[0m \u001b[39mreturn\u001b[39;00m res\n",
      "\u001b[0;31mRuntimeError\u001b[0m: Pre-condition Violation\n\tno draw context\n\tViolation occurred on line 214 in file Code/GraphMol/MolDraw2D/MolDraw2DCairo.cpp\n\tFailed Expression: dp_cr\n\tRDKIT: 2022.09.3\n\tBOOST: 1_78\n"
     ]
    }
   ],
   "source": [
    "run_pipeline(fragment_path=fragment_path, compound_path=compound_path, result_path=result_path, fragment_smi_col=fragment_smi_col, compound_smi_col=compound_smi_col, fragment_hit_col=fragment_hit_col, compound_hit_col=compound_hit_col, fragment_score=fragment_score, compound_score=compound_score, fragment_require_more_than_coh=fragment_require_more_than_coh, fragment_remove_pains_brenk=fragment_remove_pains_brenk, compound_remove_pains_brenk=compound_remove_pains_brenk, fragment_druglikeness_filter=fragment_druglikeness_filter, compound_druglikeness_filter=compound_druglikeness_filter, fragment_remove_patterns=fragment_remove_patterns, frags_cannot_disrupt_rings=frags_cannot_disrupt_rings, fragment_length_threshold=fragment_length_threshold, toxicity_threshold_if_present=toxicity_threshold_if_present, toxicity_threshold_require_presence=toxicity_threshold_require_presence, abx_path=abx_path, abx_smiles_col=abx_smiles_col, abx_name_col=abx_name_col, train_set_path=train_set_path, train_set_smiles_col=train_set_smiles_col, train_set_name_col=train_set_name_col, analogues_pval_diff_thresh=analogues_pval_diff_thresh, analogues_absolute_diff_thresh=analogues_absolute_diff_thresh, cpd_name_col=cpd_name_col, display_inline_candidates=display_inline_candidates, purch_path=purch_path, purch_name_col=purch_name_col, purch_name_needs_split=purch_name_needs_split, cpd_sim_to_abx=cpd_sim_to_abx, cpd_sim_to_train_set=cpd_sim_to_train_set)"
   ]
  }
 ],
 "metadata": {
  "kernelspec": {
   "display_name": "Python 3 (ipykernel)",
   "language": "python",
   "name": "python3"
  },
  "language_info": {
   "codemirror_mode": {
    "name": "ipython",
    "version": 3
   },
   "file_extension": ".py",
   "mimetype": "text/x-python",
   "name": "python",
   "nbconvert_exporter": "python",
   "pygments_lexer": "ipython3",
   "version": "3.10.4"
  }
 },
 "nbformat": 4,
 "nbformat_minor": 4
}

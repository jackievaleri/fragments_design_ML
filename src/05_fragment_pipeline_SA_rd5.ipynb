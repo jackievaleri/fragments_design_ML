{
 "cells": [
  {
   "cell_type": "code",
   "execution_count": 1,
   "metadata": {},
   "outputs": [
    {
     "name": "stderr",
     "output_type": "stream",
     "text": [
      "/Users/jackie16201/opt/anaconda3/envs/torch_environment/lib/python3.10/site-packages/tqdm/auto.py:22: TqdmWarning: IProgress not found. Please update jupyter and ipywidgets. See https://ipywidgets.readthedocs.io/en/stable/user_install.html\n",
      "  from .autonotebook import tqdm as notebook_tqdm\n",
      "/Users/jackie16201/Desktop/Spring_2023/fragments_discovery_design_ML/src/pipeline.py:11: DeprecationWarning: The rdkit.Chem.MCS module is deprecated; please use rdkit.Chem.rdFMCS instead.\n",
      "  from rdkit.Chem import MCS\n"
     ]
    }
   ],
   "source": [
    "%matplotlib inline\n",
    "import pandas as pd\n",
    "from pipeline import run_pipeline\n",
    "# JV note: recapitulates 19.0_redo18.0_no_enamine_mistake_fragment_prioritization_pipeline_v6_script_0.05frag_0.15mol_all_frags_800K_12_20_20221\n",
    "# also 19.0_PART2_final_mol_prioritization_corresponding_to_19.0_pipeline_v6_script_0.05frag_0.15mol_all_frags_800K_12_20_2022"
   ]
  },
  {
   "cell_type": "code",
   "execution_count": null,
   "metadata": {},
   "outputs": [],
   "source": [
    "# amass fragments from different datasets\n",
    "\n",
    "# gdb11\n",
    "df1 = pd.read_csv('../out/model_preds_on_frags_and_cpds/SA/FINISHED_combined_fragment_preds_gdb11_05_24_2022.csv')\n",
    "df1 = df1[['SMILES', 'ACTIVITY']]\n",
    "df1['Source'] = ['GDB-11'] * len(df1)\n",
    "display(df1.iloc[0:10])\n",
    "print('length of gdb11 preds: ', len(df1))\n",
    "\n",
    "# gdb17 sample\n",
    "df2 = pd.read_csv('../out/model_preds_on_frags_and_cpds/SA/FINISHED_combined_fragment_preds_gdb17_07_05_2022.csv')\n",
    "df2 = df2[['SMILES', 'ACTIVITY']]\n",
    "df2['Source'] = ['GDB-17 Sample'] * len(df2)\n",
    "display(df2.iloc[0:10])\n",
    "print('length of gdb17 preds: ', len(df2))\n",
    "\n",
    "# enamine fragments\n",
    "df3 = pd.read_csv('../out/model_preds_on_frags_and_cpds/SA/FINISHED_combined_enamine_18milfrags_10_13_2022.csv')\n",
    "df3 = df3[['smiles', 'ACTIVITY']]\n",
    "df3.columns = ['SMILES', 'ACTIVITY']\n",
    "df3['Source'] = ['Enamine'] * len(df3)\n",
    "display(df3.iloc[0:10])\n",
    "print('length of enamine preds: ', len(df3))\n",
    "\n",
    "df = pd.concat([df1, df2, df3])\n",
    "df = df.drop_duplicates('SMILES', ignore_index = True) # at first, just deduplicate based on SMILES\n",
    "df.to_csv('../out/model_preds_on_frags_and_cpds/SA/combined_gdb11_gdb17_enamine_preds.csv', index = False)"
   ]
  },
  {
   "cell_type": "code",
   "execution_count": 2,
   "metadata": {},
   "outputs": [],
   "source": [
    "# ACTUAL VALUES for SA round 5\n",
    "\n",
    "# values for processing fragments and compounds\n",
    "fragment_path = '../out/model_preds_on_frags_and_cpds/SA/combined_gdb11_gdb17_enamine_preds.csv'\n",
    "compound_path = '../out/model_preds_on_frags_and_cpds/SA/combined_broad_preds_with_metadata_05_20_2022.csv'\n",
    "result_path = '../out/fragment_algorithm_pipeline_runs/10_SA_rd5/'\n",
    "fragment_smi_col = 'SMILES'\n",
    "compound_smi_col = 'smiles'\n",
    "fragment_hit_col = 'ACTIVITY'\n",
    "compound_hit_col = 'ACTIVTY'\n",
    "cpd_name_col = 'Name'\n",
    "\n",
    "# filters and thresholds for fragments and compounds\n",
    "fragment_score = 0.1\n",
    "compound_score = 0.15\n",
    "fragment_remove_pains_brenk = 'both' # one of 'both', 'pains', 'brenk', 'none'\n",
    "compound_remove_pains_brenk = 'both' # one of 'both', 'pains', 'brenk', 'none'\n",
    "fragment_druglikeness_filter = [] # list containing 'egan', 'ghose', 'lipinski', 'muegge'\n",
    "compound_druglikeness_filter = [] # list containing 'egan', 'ghose', 'lipinski', 'muegge'\n",
    "fragment_require_more_than_coh = True\n",
    "fragment_remove_patterns = []\n",
    "\n",
    "# input for matching and comparison to existing datasets\n",
    "frags_cannot_disrupt_rings = True\n",
    "fragment_length_threshold = 0 # must be bigger than 0\n",
    "display_inline_candidates = False\n",
    "analogues_pval_diff_thresh = 0.05\n",
    "analogues_absolute_diff_thresh = 0.05\n",
    "\n",
    "# toxicity\n",
    "toxicity_threshold_if_present = 0.5\n",
    "toxicity_threshold_require_presence = False\n",
    "\n",
    "# antibiotics\n",
    "abx_path = '../data/static_datasets/04052022_CLEANED_v5_antibiotics_across_many_classes.csv'\n",
    "abx_smiles_col = 'Smiles'\n",
    "abx_name_col = 'Name'\n",
    "cpd_sim_to_abx = 0.7\n",
    "\n",
    "# training set\n",
    "train_set_path = '../data/training_data/SA/combined_SA_screen_39K.csv'\n",
    "train_set_smiles_col = 'SMILES'\n",
    "train_set_name_col = 'Compound_ID'\n",
    "cpd_sim_to_train_set = 0.9\n",
    "\n",
    "# purchasable libraries\n",
    "purch_path = '../data/static_datasets/Broad_800K_purchasable.xlsx'\n",
    "purch_name_col = 'BROADID'\n",
    "purch_name_needs_split = True\n",
    "\n",
    "# tested before libraries - can be more expansive than train set\n",
    "tested_before_path = ''\n",
    "tested_before_name_col = 'Name'\n",
    "tested_before_name_needs_split = False"
   ]
  },
  {
   "cell_type": "code",
   "execution_count": 3,
   "metadata": {},
   "outputs": [
    {
     "name": "stdout",
     "output_type": "stream",
     "text": [
      "\n",
      "Processing fragments...\n",
      "length of df:  18338026\n"
     ]
    },
    {
     "ename": "KeyboardInterrupt",
     "evalue": "",
     "output_type": "error",
     "traceback": [
      "\u001b[0;31m---------------------------------------------------------------------------\u001b[0m",
      "\u001b[0;31mKeyboardInterrupt\u001b[0m                         Traceback (most recent call last)",
      "\u001b[1;32m/Users/jackie16201/Desktop/Spring_2023/fragments_discovery_design_ML/src/08_fragment_pipeline_SA_rd3.ipynb Cell 3\u001b[0m in \u001b[0;36m<cell line: 1>\u001b[0;34m()\u001b[0m\n\u001b[0;32m----> <a href='vscode-notebook-cell:/Users/jackie16201/Desktop/Spring_2023/fragments_discovery_design_ML/src/08_fragment_pipeline_SA_rd3.ipynb#W3sZmlsZQ%3D%3D?line=0'>1</a>\u001b[0m run_pipeline(fragment_path\u001b[39m=\u001b[39;49mfragment_path, compound_path\u001b[39m=\u001b[39;49mcompound_path, result_path\u001b[39m=\u001b[39;49mresult_path, fragment_smi_col\u001b[39m=\u001b[39;49mfragment_smi_col, compound_smi_col\u001b[39m=\u001b[39;49mcompound_smi_col, fragment_hit_col\u001b[39m=\u001b[39;49mfragment_hit_col, compound_hit_col\u001b[39m=\u001b[39;49mcompound_hit_col, fragment_score\u001b[39m=\u001b[39;49mfragment_score, compound_score\u001b[39m=\u001b[39;49mcompound_score, fragment_require_more_than_coh\u001b[39m=\u001b[39;49mfragment_require_more_than_coh, fragment_remove_pains_brenk\u001b[39m=\u001b[39;49mfragment_remove_pains_brenk, compound_remove_pains_brenk\u001b[39m=\u001b[39;49mcompound_remove_pains_brenk, fragment_druglikeness_filter\u001b[39m=\u001b[39;49mfragment_druglikeness_filter, compound_druglikeness_filter\u001b[39m=\u001b[39;49mcompound_druglikeness_filter, fragment_remove_patterns\u001b[39m=\u001b[39;49mfragment_remove_patterns, frags_cannot_disrupt_rings\u001b[39m=\u001b[39;49mfrags_cannot_disrupt_rings, fragment_length_threshold\u001b[39m=\u001b[39;49mfragment_length_threshold, toxicity_threshold_if_present\u001b[39m=\u001b[39;49mtoxicity_threshold_if_present, toxicity_threshold_require_presence\u001b[39m=\u001b[39;49mtoxicity_threshold_require_presence, abx_path\u001b[39m=\u001b[39;49mabx_path, abx_smiles_col\u001b[39m=\u001b[39;49mabx_smiles_col, abx_name_col\u001b[39m=\u001b[39;49mabx_name_col, train_set_path\u001b[39m=\u001b[39;49mtrain_set_path, train_set_smiles_col\u001b[39m=\u001b[39;49mtrain_set_smiles_col, train_set_name_col\u001b[39m=\u001b[39;49mtrain_set_name_col, analogues_pval_diff_thresh\u001b[39m=\u001b[39;49manalogues_pval_diff_thresh, analogues_absolute_diff_thresh\u001b[39m=\u001b[39;49manalogues_absolute_diff_thresh, cpd_name_col\u001b[39m=\u001b[39;49mcpd_name_col, display_inline_candidates\u001b[39m=\u001b[39;49mdisplay_inline_candidates, purch_path\u001b[39m=\u001b[39;49mpurch_path, purch_name_col\u001b[39m=\u001b[39;49mpurch_name_col, purch_name_needs_split\u001b[39m=\u001b[39;49mpurch_name_needs_split, cpd_sim_to_abx\u001b[39m=\u001b[39;49mcpd_sim_to_abx, cpd_sim_to_train_set\u001b[39m=\u001b[39;49mcpd_sim_to_train_set)\n",
      "File \u001b[0;32m~/Desktop/Spring_2023/fragments_discovery_design_ML/src/pipeline.py:729\u001b[0m, in \u001b[0;36mrun_pipeline\u001b[0;34m(fragment_path, compound_path, result_path, fragment_smi_col, compound_smi_col, fragment_hit_col, compound_hit_col, fragment_score, compound_score, fragment_require_more_than_coh, fragment_remove_pains_brenk, compound_remove_pains_brenk, fragment_druglikeness_filter, compound_druglikeness_filter, fragment_remove_patterns, frags_cannot_disrupt_rings, fragment_length_threshold, toxicity_threshold_if_present, toxicity_threshold_require_presence, abx_path, abx_smiles_col, abx_name_col, train_set_path, train_set_smiles_col, train_set_name_col, analogues_pval_diff_thresh, analogues_absolute_diff_thresh, cpd_name_col, display_inline_candidates, purch_path, purch_name_col, purch_name_needs_split, tested_before_path, tested_before_name_col, tested_before_name_needs_split, cpd_sim_to_abx, cpd_sim_to_train_set)\u001b[0m\n\u001b[1;32m    725\u001b[0m \u001b[39mdef\u001b[39;00m \u001b[39mrun_pipeline\u001b[39m(fragment_path, compound_path, result_path, fragment_smi_col \u001b[39m=\u001b[39m \u001b[39m'\u001b[39m\u001b[39msmiles\u001b[39m\u001b[39m'\u001b[39m, compound_smi_col \u001b[39m=\u001b[39m \u001b[39m'\u001b[39m\u001b[39msmiles\u001b[39m\u001b[39m'\u001b[39m, fragment_hit_col \u001b[39m=\u001b[39m \u001b[39m'\u001b[39m\u001b[39mhit\u001b[39m\u001b[39m'\u001b[39m, compound_hit_col \u001b[39m=\u001b[39m \u001b[39m'\u001b[39m\u001b[39mhit\u001b[39m\u001b[39m'\u001b[39m, fragment_score \u001b[39m=\u001b[39m \u001b[39m0.2\u001b[39m, compound_score \u001b[39m=\u001b[39m \u001b[39m0.2\u001b[39m, fragment_require_more_than_coh \u001b[39m=\u001b[39m \u001b[39mTrue\u001b[39;00m, fragment_remove_pains_brenk \u001b[39m=\u001b[39m \u001b[39m'\u001b[39m\u001b[39mboth\u001b[39m\u001b[39m'\u001b[39m, compound_remove_pains_brenk \u001b[39m=\u001b[39m \u001b[39m'\u001b[39m\u001b[39mboth\u001b[39m\u001b[39m'\u001b[39m, fragment_druglikeness_filter \u001b[39m=\u001b[39m [], compound_druglikeness_filter \u001b[39m=\u001b[39m [], fragment_remove_patterns \u001b[39m=\u001b[39m [], frags_cannot_disrupt_rings \u001b[39m=\u001b[39m \u001b[39mTrue\u001b[39;00m, fragment_length_threshold \u001b[39m=\u001b[39m \u001b[39m0\u001b[39m, toxicity_threshold_if_present \u001b[39m=\u001b[39m \u001b[39m0\u001b[39m, toxicity_threshold_require_presence \u001b[39m=\u001b[39m \u001b[39mFalse\u001b[39;00m, abx_path \u001b[39m=\u001b[39m \u001b[39m'\u001b[39m\u001b[39m'\u001b[39m, abx_smiles_col \u001b[39m=\u001b[39m \u001b[39m'\u001b[39m\u001b[39msmiles\u001b[39m\u001b[39m'\u001b[39m, abx_name_col \u001b[39m=\u001b[39m \u001b[39m'\u001b[39m\u001b[39mName\u001b[39m\u001b[39m'\u001b[39m, train_set_path \u001b[39m=\u001b[39m \u001b[39m'\u001b[39m\u001b[39m'\u001b[39m, train_set_smiles_col \u001b[39m=\u001b[39m \u001b[39m'\u001b[39m\u001b[39msmiles\u001b[39m\u001b[39m'\u001b[39m, train_set_name_col \u001b[39m=\u001b[39m \u001b[39m'\u001b[39m\u001b[39mName\u001b[39m\u001b[39m'\u001b[39m, analogues_pval_diff_thresh \u001b[39m=\u001b[39m \u001b[39m0\u001b[39m, analogues_absolute_diff_thresh \u001b[39m=\u001b[39m \u001b[39m0\u001b[39m, cpd_name_col \u001b[39m=\u001b[39m \u001b[39m'\u001b[39m\u001b[39mName\u001b[39m\u001b[39m'\u001b[39m, display_inline_candidates\u001b[39m=\u001b[39m\u001b[39mFalse\u001b[39;00m, purch_path\u001b[39m=\u001b[39m\u001b[39m'\u001b[39m\u001b[39m'\u001b[39m, purch_name_col\u001b[39m=\u001b[39m\u001b[39m'\u001b[39m\u001b[39mName\u001b[39m\u001b[39m'\u001b[39m, purch_name_needs_split\u001b[39m=\u001b[39m\u001b[39mFalse\u001b[39;00m, tested_before_path\u001b[39m=\u001b[39m\u001b[39m'\u001b[39m\u001b[39m'\u001b[39m, tested_before_name_col\u001b[39m=\u001b[39m\u001b[39m'\u001b[39m\u001b[39mName\u001b[39m\u001b[39m'\u001b[39m, tested_before_name_needs_split\u001b[39m=\u001b[39m\u001b[39mFalse\u001b[39;00m, cpd_sim_to_abx\u001b[39m=\u001b[39m\u001b[39m0\u001b[39m, cpd_sim_to_train_set\u001b[39m=\u001b[39m\u001b[39m0\u001b[39m):\n\u001b[1;32m    726\u001b[0m \n\u001b[1;32m    727\u001b[0m     \u001b[39m##### part 1: process frags and compounds #####\u001b[39;00m\n\u001b[1;32m    728\u001b[0m     \u001b[39mprint\u001b[39m(\u001b[39m'\u001b[39m\u001b[39m\\n\u001b[39;00m\u001b[39mProcessing fragments...\u001b[39m\u001b[39m'\u001b[39m)\n\u001b[0;32m--> 729\u001b[0m     df, mols, _ \u001b[39m=\u001b[39m process_dataset(frag_or_cpd\u001b[39m=\u001b[39;49m\u001b[39m'\u001b[39;49m\u001b[39mfrag\u001b[39;49m\u001b[39m'\u001b[39;49m, path\u001b[39m=\u001b[39;49mfragment_path, score\u001b[39m=\u001b[39;49mfragment_score, smi_col\u001b[39m=\u001b[39;49mfragment_smi_col, hit_col\u001b[39m=\u001b[39;49mfragment_hit_col, require_more_than_coh\u001b[39m=\u001b[39;49mfragment_require_more_than_coh, remove_pains_brenk\u001b[39m=\u001b[39;49mfragment_remove_pains_brenk, remove_patterns\u001b[39m=\u001b[39;49mfragment_remove_patterns, druglikeness_filter\u001b[39m=\u001b[39;49mfragment_druglikeness_filter)\n\u001b[1;32m    730\u001b[0m     \u001b[39mprint\u001b[39m(\u001b[39m'\u001b[39m\u001b[39m\\n\u001b[39;00m\u001b[39mProcessing compounds...\u001b[39m\u001b[39m'\u001b[39m)\n\u001b[1;32m    731\u001b[0m     cpd_df, cpd_mols, full_cpd_df \u001b[39m=\u001b[39m process_dataset(frag_or_cpd\u001b[39m=\u001b[39m\u001b[39m'\u001b[39m\u001b[39mcpd\u001b[39m\u001b[39m'\u001b[39m, path\u001b[39m=\u001b[39mcompound_path, score\u001b[39m=\u001b[39mcompound_score, smi_col\u001b[39m=\u001b[39mcompound_smi_col, hit_col\u001b[39m=\u001b[39mcompound_hit_col, require_more_than_coh\u001b[39m=\u001b[39m\u001b[39mFalse\u001b[39;00m, remove_pains_brenk\u001b[39m=\u001b[39mcompound_remove_pains_brenk, remove_patterns\u001b[39m=\u001b[39m[], druglikeness_filter\u001b[39m=\u001b[39mcompound_druglikeness_filter)\n",
      "File \u001b[0;32m~/Desktop/Spring_2023/fragments_discovery_design_ML/src/pipeline.py:150\u001b[0m, in \u001b[0;36mprocess_dataset\u001b[0;34m(frag_or_cpd, path, score, smi_col, hit_col, require_more_than_coh, remove_pains_brenk, remove_patterns, druglikeness_filter)\u001b[0m\n\u001b[1;32m    147\u001b[0m fulldf \u001b[39m=\u001b[39m df\u001b[39m.\u001b[39mcopy()\n\u001b[1;32m    149\u001b[0m \u001b[39m# threshold on score\u001b[39;00m\n\u001b[0;32m--> 150\u001b[0m df \u001b[39m=\u001b[39m threshold_on_score(df, score, hit_col)\n\u001b[1;32m    152\u001b[0m \u001b[39m# keep only frags with more than just C, O, H\u001b[39;00m\n\u001b[1;32m    153\u001b[0m \u001b[39mif\u001b[39;00m require_more_than_coh \u001b[39mand\u001b[39;00m frag_or_cpd \u001b[39m==\u001b[39m \u001b[39m'\u001b[39m\u001b[39mcpd\u001b[39m\u001b[39m'\u001b[39m:\n",
      "File \u001b[0;32m~/Desktop/Spring_2023/fragments_discovery_design_ML/src/pipeline.py:26\u001b[0m, in \u001b[0;36mthreshold_on_score\u001b[0;34m(df, thresh, column)\u001b[0m\n\u001b[1;32m     24\u001b[0m keep_indices \u001b[39m=\u001b[39m [x \u001b[39m!=\u001b[39m \u001b[39m'\u001b[39m\u001b[39mInvalid SMILES\u001b[39m\u001b[39m'\u001b[39m \u001b[39mfor\u001b[39;00m x \u001b[39min\u001b[39;00m \u001b[39mlist\u001b[39m(df[column])]\n\u001b[1;32m     25\u001b[0m df \u001b[39m=\u001b[39m df[keep_indices]\n\u001b[0;32m---> 26\u001b[0m keep_indices \u001b[39m=\u001b[39m [\u001b[39mfloat\u001b[39m(s) \u001b[39m>\u001b[39m thresh \u001b[39mfor\u001b[39;00m s \u001b[39min\u001b[39;00m \u001b[39mlist\u001b[39m(df[column])]\n\u001b[1;32m     27\u001b[0m df \u001b[39m=\u001b[39m df[keep_indices]\n\u001b[1;32m     28\u001b[0m \u001b[39mprint\u001b[39m(\u001b[39m'\u001b[39m\u001b[39mlength of df >\u001b[39m\u001b[39m'\u001b[39m \u001b[39m+\u001b[39m \u001b[39mstr\u001b[39m(thresh) \u001b[39m+\u001b[39m \u001b[39m'\u001b[39m\u001b[39m: \u001b[39m\u001b[39m'\u001b[39m, \u001b[39mlen\u001b[39m(df))\n",
      "File \u001b[0;32m~/Desktop/Spring_2023/fragments_discovery_design_ML/src/pipeline.py:26\u001b[0m, in \u001b[0;36m<listcomp>\u001b[0;34m(.0)\u001b[0m\n\u001b[1;32m     24\u001b[0m keep_indices \u001b[39m=\u001b[39m [x \u001b[39m!=\u001b[39m \u001b[39m'\u001b[39m\u001b[39mInvalid SMILES\u001b[39m\u001b[39m'\u001b[39m \u001b[39mfor\u001b[39;00m x \u001b[39min\u001b[39;00m \u001b[39mlist\u001b[39m(df[column])]\n\u001b[1;32m     25\u001b[0m df \u001b[39m=\u001b[39m df[keep_indices]\n\u001b[0;32m---> 26\u001b[0m keep_indices \u001b[39m=\u001b[39m [\u001b[39mfloat\u001b[39;49m(s) \u001b[39m>\u001b[39m thresh \u001b[39mfor\u001b[39;00m s \u001b[39min\u001b[39;00m \u001b[39mlist\u001b[39m(df[column])]\n\u001b[1;32m     27\u001b[0m df \u001b[39m=\u001b[39m df[keep_indices]\n\u001b[1;32m     28\u001b[0m \u001b[39mprint\u001b[39m(\u001b[39m'\u001b[39m\u001b[39mlength of df >\u001b[39m\u001b[39m'\u001b[39m \u001b[39m+\u001b[39m \u001b[39mstr\u001b[39m(thresh) \u001b[39m+\u001b[39m \u001b[39m'\u001b[39m\u001b[39m: \u001b[39m\u001b[39m'\u001b[39m, \u001b[39mlen\u001b[39m(df))\n",
      "\u001b[0;31mKeyboardInterrupt\u001b[0m: "
     ]
    }
   ],
   "source": [
    "run_pipeline(fragment_path=fragment_path, compound_path=compound_path, result_path=result_path, fragment_smi_col=fragment_smi_col, compound_smi_col=compound_smi_col, fragment_hit_col=fragment_hit_col, compound_hit_col=compound_hit_col, fragment_score=fragment_score, compound_score=compound_score, fragment_require_more_than_coh=fragment_require_more_than_coh, fragment_remove_pains_brenk=fragment_remove_pains_brenk, compound_remove_pains_brenk=compound_remove_pains_brenk, fragment_druglikeness_filter=fragment_druglikeness_filter, compound_druglikeness_filter=compound_druglikeness_filter, fragment_remove_patterns=fragment_remove_patterns, frags_cannot_disrupt_rings=frags_cannot_disrupt_rings, fragment_length_threshold=fragment_length_threshold, toxicity_threshold_if_present=toxicity_threshold_if_present, toxicity_threshold_require_presence=toxicity_threshold_require_presence, abx_path=abx_path, abx_smiles_col=abx_smiles_col, abx_name_col=abx_name_col, train_set_path=train_set_path, train_set_smiles_col=train_set_smiles_col, train_set_name_col=train_set_name_col, analogues_pval_diff_thresh=analogues_pval_diff_thresh, analogues_absolute_diff_thresh=analogues_absolute_diff_thresh, cpd_name_col=cpd_name_col, display_inline_candidates=display_inline_candidates, purch_path=purch_path, purch_name_col=purch_name_col, purch_name_needs_split=purch_name_needs_split, cpd_sim_to_abx=cpd_sim_to_abx, cpd_sim_to_train_set=cpd_sim_to_train_set)"
   ]
  }
 ],
 "metadata": {
  "kernelspec": {
   "display_name": "Python 3 (ipykernel)",
   "language": "python",
   "name": "python3"
  },
  "language_info": {
   "codemirror_mode": {
    "name": "ipython",
    "version": 3
   },
   "file_extension": ".py",
   "mimetype": "text/x-python",
   "name": "python",
   "nbconvert_exporter": "python",
   "pygments_lexer": "ipython3",
   "version": "3.10.4"
  }
 },
 "nbformat": 4,
 "nbformat_minor": 4
}

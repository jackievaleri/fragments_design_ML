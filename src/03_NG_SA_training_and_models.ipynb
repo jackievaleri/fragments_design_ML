{
 "cells": [
  {
   "cell_type": "code",
   "execution_count": 1,
   "id": "4aab8bdb",
   "metadata": {},
   "outputs": [],
   "source": [
    "import pandas as pd\n",
    "import matplotlib.pyplot as plt\n",
    "\n",
    "from utils import evaluate_model"
   ]
  },
  {
   "attachments": {},
   "cell_type": "markdown",
   "id": "526f6940",
   "metadata": {},
   "source": [
    "# Read in training datasets"
   ]
  },
  {
   "cell_type": "code",
   "execution_count": 2,
   "id": "eb5e649d",
   "metadata": {},
   "outputs": [
    {
     "data": {
      "text/html": [
       "<div>\n",
       "<style scoped>\n",
       "    .dataframe tbody tr th:only-of-type {\n",
       "        vertical-align: middle;\n",
       "    }\n",
       "\n",
       "    .dataframe tbody tr th {\n",
       "        vertical-align: top;\n",
       "    }\n",
       "\n",
       "    .dataframe thead th {\n",
       "        text-align: right;\n",
       "    }\n",
       "</style>\n",
       "<table border=\"1\" class=\"dataframe\">\n",
       "  <thead>\n",
       "    <tr style=\"text-align: right;\">\n",
       "      <th></th>\n",
       "      <th>SA_Activity</th>\n",
       "      <th>Compound_ID</th>\n",
       "      <th>NG_Activity</th>\n",
       "    </tr>\n",
       "  </thead>\n",
       "  <tbody>\n",
       "    <tr>\n",
       "      <th>0</th>\n",
       "      <td>SA-Inactive</td>\n",
       "      <td>BRD-K49267252</td>\n",
       "      <td>NG-Inactive</td>\n",
       "    </tr>\n",
       "    <tr>\n",
       "      <th>1</th>\n",
       "      <td>SA-Inactive</td>\n",
       "      <td>BRD-K85924431</td>\n",
       "      <td>NG-Inactive</td>\n",
       "    </tr>\n",
       "    <tr>\n",
       "      <th>2</th>\n",
       "      <td>SA-Inactive</td>\n",
       "      <td>BRD-A97790207</td>\n",
       "      <td>NG-Inactive</td>\n",
       "    </tr>\n",
       "    <tr>\n",
       "      <th>3</th>\n",
       "      <td>SA-Inactive</td>\n",
       "      <td>BRD-K72088705</td>\n",
       "      <td>NG-Inactive</td>\n",
       "    </tr>\n",
       "    <tr>\n",
       "      <th>4</th>\n",
       "      <td>SA-Inactive</td>\n",
       "      <td>BRD-K81185262</td>\n",
       "      <td>NG-Inactive</td>\n",
       "    </tr>\n",
       "    <tr>\n",
       "      <th>...</th>\n",
       "      <td>...</td>\n",
       "      <td>...</td>\n",
       "      <td>...</td>\n",
       "    </tr>\n",
       "    <tr>\n",
       "      <th>38607</th>\n",
       "      <td>SA-Inactive</td>\n",
       "      <td>alpha-TOCHOPHERYL ACETATE [4mM]</td>\n",
       "      <td>NG-Inactive</td>\n",
       "    </tr>\n",
       "    <tr>\n",
       "      <th>38608</th>\n",
       "      <td>SA-Inactive</td>\n",
       "      <td>beta-CAROTENE [2mM]</td>\n",
       "      <td>NG-Inactive</td>\n",
       "    </tr>\n",
       "    <tr>\n",
       "      <th>38609</th>\n",
       "      <td>SA-Inactive</td>\n",
       "      <td>d-LIMONENE</td>\n",
       "      <td>NG-Inactive</td>\n",
       "    </tr>\n",
       "    <tr>\n",
       "      <th>38610</th>\n",
       "      <td>SA-Inactive</td>\n",
       "      <td>gamma-AMINOBUTYRIC ACID HYDROCHLORIDE</td>\n",
       "      <td>NG-Inactive</td>\n",
       "    </tr>\n",
       "    <tr>\n",
       "      <th>38611</th>\n",
       "      <td>SA-Inactive</td>\n",
       "      <td>meta-CRESYL ACETATE</td>\n",
       "      <td>NG-Inactive</td>\n",
       "    </tr>\n",
       "  </tbody>\n",
       "</table>\n",
       "<p>38612 rows × 3 columns</p>\n",
       "</div>"
      ],
      "text/plain": [
       "       SA_Activity                            Compound_ID  NG_Activity\n",
       "0      SA-Inactive                          BRD-K49267252  NG-Inactive\n",
       "1      SA-Inactive                          BRD-K85924431  NG-Inactive\n",
       "2      SA-Inactive                          BRD-A97790207  NG-Inactive\n",
       "3      SA-Inactive                          BRD-K72088705  NG-Inactive\n",
       "4      SA-Inactive                          BRD-K81185262  NG-Inactive\n",
       "...            ...                                    ...          ...\n",
       "38607  SA-Inactive        alpha-TOCHOPHERYL ACETATE [4mM]  NG-Inactive\n",
       "38608  SA-Inactive                    beta-CAROTENE [2mM]  NG-Inactive\n",
       "38609  SA-Inactive                             d-LIMONENE  NG-Inactive\n",
       "38610  SA-Inactive  gamma-AMINOBUTYRIC ACID HYDROCHLORIDE  NG-Inactive\n",
       "38611  SA-Inactive                    meta-CRESYL ACETATE  NG-Inactive\n",
       "\n",
       "[38612 rows x 3 columns]"
      ]
     },
     "execution_count": 2,
     "metadata": {},
     "output_type": "execute_result"
    }
   ],
   "source": [
    "# get training dataset for sa\n",
    "sa = pd.read_csv('../data/training_data/SA/combined_SA_screen_39K.csv')\n",
    "sa = sa[['SA_Activity', 'Compound_ID']]\n",
    "\n",
    "# get training dataset for NG\n",
    "ng = pd.read_csv('../data/training_data/NG/FULL_03_19_2022.csv')\n",
    "ng = ng[['hit', 'Name']]\n",
    "ng.columns = ['NG_Activity', 'Compound_ID']\n",
    "ng = ng.drop_duplicates('Compound_ID')\n",
    "\n",
    "# merge\n",
    "merge = sa.merge(ng, on = 'Compound_ID', how = 'inner')\n",
    "merge['SA_Activity'] = ['SA-Active' if x == 1.0 else 'SA-Inactive' for x in list(merge['SA_Activity'])]\n",
    "merge['NG_Activity'] = ['NG-Active' if x == 1.0 else 'NG-Inactive' for x in list(merge['NG_Activity'])]\n",
    "merge"
   ]
  },
  {
   "attachments": {},
   "cell_type": "markdown",
   "id": "117fd766",
   "metadata": {},
   "source": [
    "# Evaluate external validation sets"
   ]
  },
  {
   "attachments": {},
   "cell_type": "markdown",
   "id": "2a7f1424",
   "metadata": {},
   "source": [
    "For this comparison, we're going to run models trained only on the 37K and (2.3K or PK, for SA and NG respectively) datasets. We will use the first validation sets generated for each project to show that each model generalizes. Then, we will use models trained on ALL available data (37K, 2.3K/PK, and validation) for the fragment analysis."
   ]
  },
  {
   "cell_type": "code",
   "execution_count": 4,
   "id": "8e5b6c86",
   "metadata": {},
   "outputs": [
    {
     "name": "stdout",
     "output_type": "stream",
     "text": [
      "327\n",
      "38\n"
     ]
    },
    {
     "data": {
      "text/html": [
       "<div>\n",
       "<style scoped>\n",
       "    .dataframe tbody tr th:only-of-type {\n",
       "        vertical-align: middle;\n",
       "    }\n",
       "\n",
       "    .dataframe tbody tr th {\n",
       "        vertical-align: top;\n",
       "    }\n",
       "\n",
       "    .dataframe thead th {\n",
       "        text-align: right;\n",
       "    }\n",
       "</style>\n",
       "<table border=\"1\" class=\"dataframe\">\n",
       "  <thead>\n",
       "    <tr style=\"text-align: right;\">\n",
       "      <th></th>\n",
       "      <th>smiles</th>\n",
       "      <th>class</th>\n",
       "    </tr>\n",
       "  </thead>\n",
       "  <tbody>\n",
       "    <tr>\n",
       "      <th>0</th>\n",
       "      <td>OC(=O)C1CCN(CC1)c1ccc(c(c1)F)-c1ccc(c(c1)C(=O)O)O</td>\n",
       "      <td>0.0</td>\n",
       "    </tr>\n",
       "    <tr>\n",
       "      <th>1</th>\n",
       "      <td>OC(=O)[C@H]1CCCN(C1)c1ccc(c(c1)F)-c1ccc(c(c1)C...</td>\n",
       "      <td>0.0</td>\n",
       "    </tr>\n",
       "    <tr>\n",
       "      <th>2</th>\n",
       "      <td>OC(C1=C(CSC2OC(C3CCCCC3)=NN=2)C2=C(C=CC=C2F)S1)=O</td>\n",
       "      <td>1.0</td>\n",
       "    </tr>\n",
       "    <tr>\n",
       "      <th>3</th>\n",
       "      <td>CC(N1C(SCC2C3=C(C=CC=C3F)SC=2C(O)=O)=NN=N1)C</td>\n",
       "      <td>0.0</td>\n",
       "    </tr>\n",
       "    <tr>\n",
       "      <th>4</th>\n",
       "      <td>CC(C1N(C2CC2)C(SCC2C3=C(C=CC=C3F)SC=2C(O)=O)=N...</td>\n",
       "      <td>0.0</td>\n",
       "    </tr>\n",
       "    <tr>\n",
       "      <th>...</th>\n",
       "      <td>...</td>\n",
       "      <td>...</td>\n",
       "    </tr>\n",
       "    <tr>\n",
       "      <th>322</th>\n",
       "      <td>S(=O)(=O)(N1CCCCC1)N1CCCN(CC1)S(=O)(=O)N1CCCCC1</td>\n",
       "      <td>0.0</td>\n",
       "    </tr>\n",
       "    <tr>\n",
       "      <th>323</th>\n",
       "      <td>N1(C2C1C1CC2CC1)S(=O)(=O)C1C=CC(=CC=1)C</td>\n",
       "      <td>0.0</td>\n",
       "    </tr>\n",
       "    <tr>\n",
       "      <th>324</th>\n",
       "      <td>S(=O)(=O)(N1CCCCC1)N1CCN(CC1)S(=O)(=O)N1CCCC1</td>\n",
       "      <td>0.0</td>\n",
       "    </tr>\n",
       "    <tr>\n",
       "      <th>325</th>\n",
       "      <td>S(=O)(=O)(N1CCOCC1)N1CCN(CC1)S(=O)(=O)N1CCCC1</td>\n",
       "      <td>0.0</td>\n",
       "    </tr>\n",
       "    <tr>\n",
       "      <th>326</th>\n",
       "      <td>S(=O)(=O)(N1CCCC1)N1CCN(CC1)S(=O)(=O)N(C)C</td>\n",
       "      <td>0.0</td>\n",
       "    </tr>\n",
       "  </tbody>\n",
       "</table>\n",
       "<p>327 rows × 2 columns</p>\n",
       "</div>"
      ],
      "text/plain": [
       "                                                smiles  class\n",
       "0    OC(=O)C1CCN(CC1)c1ccc(c(c1)F)-c1ccc(c(c1)C(=O)O)O    0.0\n",
       "1    OC(=O)[C@H]1CCCN(C1)c1ccc(c(c1)F)-c1ccc(c(c1)C...    0.0\n",
       "2    OC(C1=C(CSC2OC(C3CCCCC3)=NN=2)C2=C(C=CC=C2F)S1)=O    1.0\n",
       "3         CC(N1C(SCC2C3=C(C=CC=C3F)SC=2C(O)=O)=NN=N1)C    0.0\n",
       "4    CC(C1N(C2CC2)C(SCC2C3=C(C=CC=C3F)SC=2C(O)=O)=N...    0.0\n",
       "..                                                 ...    ...\n",
       "322    S(=O)(=O)(N1CCCCC1)N1CCCN(CC1)S(=O)(=O)N1CCCCC1    0.0\n",
       "323            N1(C2C1C1CC2CC1)S(=O)(=O)C1C=CC(=CC=1)C    0.0\n",
       "324      S(=O)(=O)(N1CCCCC1)N1CCN(CC1)S(=O)(=O)N1CCCC1    0.0\n",
       "325      S(=O)(=O)(N1CCOCC1)N1CCN(CC1)S(=O)(=O)N1CCCC1    0.0\n",
       "326         S(=O)(=O)(N1CCCC1)N1CCN(CC1)S(=O)(=O)N(C)C    0.0\n",
       "\n",
       "[327 rows x 2 columns]"
      ]
     },
     "execution_count": 4,
     "metadata": {},
     "output_type": "execute_result"
    }
   ],
   "source": [
    "# SA validation dataset\n",
    "out_path = '../out/controls/'\n",
    "savaldf = pd.read_excel('../data/training_data/SA/Supplementary Dataset 2.xlsx', sheet_name = 'All tested compounds')\n",
    "print(len(savaldf))\n",
    "print(sum(savaldf['ACTIVITY']))\n",
    "savaldf['class'] = [1.0 if x else 0.0 for x in list(savaldf['ACTIVITY'])]\n",
    "savaldf = savaldf[['SMILES', 'class']]\n",
    "savaldf.columns = ['smiles', 'class']\n",
    "savaldf.to_csv(out_path + 'base_model_validation_sa_clean_val.csv', index = False)\n",
    "savaldf"
   ]
  },
  {
   "attachments": {},
   "cell_type": "markdown",
   "id": "b675e452",
   "metadata": {},
   "source": [
    "`chemprop_predict --test_path ../out/controls/base_model_validation_sa_clean_val.csv --checkpoint_dir ../models/SA/base_training_library --preds_path ../out/controls/base_model_validation_sa_predictions_.csv --features_generator rdkit_2d_normalized --no_features_scaling --smiles_column smiles`\n"
   ]
  },
  {
   "cell_type": "code",
   "execution_count": 5,
   "id": "ab2ecf86",
   "metadata": {},
   "outputs": [
    {
     "name": "stdout",
     "output_type": "stream",
     "text": [
      "143\n",
      "70\n"
     ]
    },
    {
     "data": {
      "text/html": [
       "<div>\n",
       "<style scoped>\n",
       "    .dataframe tbody tr th:only-of-type {\n",
       "        vertical-align: middle;\n",
       "    }\n",
       "\n",
       "    .dataframe tbody tr th {\n",
       "        vertical-align: top;\n",
       "    }\n",
       "\n",
       "    .dataframe thead th {\n",
       "        text-align: right;\n",
       "    }\n",
       "</style>\n",
       "<table border=\"1\" class=\"dataframe\">\n",
       "  <thead>\n",
       "    <tr style=\"text-align: right;\">\n",
       "      <th></th>\n",
       "      <th>smiles</th>\n",
       "      <th>class</th>\n",
       "    </tr>\n",
       "  </thead>\n",
       "  <tbody>\n",
       "    <tr>\n",
       "      <th>0</th>\n",
       "      <td>OC(=O)C[C@@H](S[Au])C(=O)O</td>\n",
       "      <td>1.0</td>\n",
       "    </tr>\n",
       "    <tr>\n",
       "      <th>1</th>\n",
       "      <td>CC(=CCN([C@@H](COC(=O)NCCCCCC(=O)NO)c1ccccc1)C...</td>\n",
       "      <td>0.0</td>\n",
       "    </tr>\n",
       "    <tr>\n",
       "      <th>2</th>\n",
       "      <td>CN(C)[C@H]1[C@@H]2C[C@@H]3[C@H](O)c4c(ccc(c4C(...</td>\n",
       "      <td>1.0</td>\n",
       "    </tr>\n",
       "    <tr>\n",
       "      <th>3</th>\n",
       "      <td>CO[C@H]1/C=C\\O[C@@]2(C)Oc3c(c(c4c(c3C2=O)C(=O)...</td>\n",
       "      <td>1.0</td>\n",
       "    </tr>\n",
       "    <tr>\n",
       "      <th>4</th>\n",
       "      <td>C[C@H]1COc2c(c(cc3c2N1C=C(C(=O)O)C3=O)F)F</td>\n",
       "      <td>1.0</td>\n",
       "    </tr>\n",
       "    <tr>\n",
       "      <th>...</th>\n",
       "      <td>...</td>\n",
       "      <td>...</td>\n",
       "    </tr>\n",
       "    <tr>\n",
       "      <th>138</th>\n",
       "      <td>NC1=NC(=CC(NC2CC2)=N1)C1=C(F)C=C(O)C(Cl)=C1</td>\n",
       "      <td>0.0</td>\n",
       "    </tr>\n",
       "    <tr>\n",
       "      <th>139</th>\n",
       "      <td>[O-][N+](=O)c1ccc(\\C=C\\N2CCOC2=O)o1</td>\n",
       "      <td>1.0</td>\n",
       "    </tr>\n",
       "    <tr>\n",
       "      <th>140</th>\n",
       "      <td>CSc1ncc(Cl)c(n1)C(=O)Nc1ncc(s1)[N+]([O-])=O</td>\n",
       "      <td>1.0</td>\n",
       "    </tr>\n",
       "    <tr>\n",
       "      <th>141</th>\n",
       "      <td>COC(=O)C1=CC=C(NC(=O)C2=CC=C(O2)[N+]([O-])=O)C=C1</td>\n",
       "      <td>0.0</td>\n",
       "    </tr>\n",
       "    <tr>\n",
       "      <th>142</th>\n",
       "      <td>[Cl-].C(c1ccccc1)[N+]12CCC(CC1)C(C2)=C(c1ccccc...</td>\n",
       "      <td>0.0</td>\n",
       "    </tr>\n",
       "  </tbody>\n",
       "</table>\n",
       "<p>143 rows × 2 columns</p>\n",
       "</div>"
      ],
      "text/plain": [
       "                                                smiles  class\n",
       "0                           OC(=O)C[C@@H](S[Au])C(=O)O    1.0\n",
       "1    CC(=CCN([C@@H](COC(=O)NCCCCCC(=O)NO)c1ccccc1)C...    0.0\n",
       "2    CN(C)[C@H]1[C@@H]2C[C@@H]3[C@H](O)c4c(ccc(c4C(...    1.0\n",
       "3    CO[C@H]1/C=C\\O[C@@]2(C)Oc3c(c(c4c(c3C2=O)C(=O)...    1.0\n",
       "4            C[C@H]1COc2c(c(cc3c2N1C=C(C(=O)O)C3=O)F)F    1.0\n",
       "..                                                 ...    ...\n",
       "138        NC1=NC(=CC(NC2CC2)=N1)C1=C(F)C=C(O)C(Cl)=C1    0.0\n",
       "139                [O-][N+](=O)c1ccc(\\C=C\\N2CCOC2=O)o1    1.0\n",
       "140        CSc1ncc(Cl)c(n1)C(=O)Nc1ncc(s1)[N+]([O-])=O    1.0\n",
       "141  COC(=O)C1=CC=C(NC(=O)C2=CC=C(O2)[N+]([O-])=O)C=C1    0.0\n",
       "142  [Cl-].C(c1ccccc1)[N+]12CCC(CC1)C(C2)=C(c1ccccc...    0.0\n",
       "\n",
       "[143 rows x 2 columns]"
      ]
     },
     "execution_count": 5,
     "metadata": {},
     "output_type": "execute_result"
    }
   ],
   "source": [
    "# NG validation set\n",
    "ngvaldf = pd.read_excel('../data/training_data/NG/2022-10-21 Broad800K validation with MP order 1 data summary Jackie.xlsx', header = 1)\n",
    "print(len(ngvaldf))\n",
    "print(sum(ngvaldf['NG_hit']))\n",
    "ngvaldf['class'] = [float(x) for x in list(ngvaldf['NG_hit'])]\n",
    "ngvaldf = ngvaldf[['SMILES', 'class']]\n",
    "ngvaldf.columns = ['smiles', 'class']\n",
    "ngvaldf.to_csv(out_path + 'base_model_validation_ng_clean_val.csv', index = False)\n",
    "ngvaldf"
   ]
  },
  {
   "attachments": {},
   "cell_type": "markdown",
   "id": "edf0a62f",
   "metadata": {},
   "source": [
    "`python ../models/chemprop-master/scripts/save_features.py --data_path ../out/controls/base_model_validation_ng_clean_val.csv --features_generator rdkit_2d_normalized --save_path ../out/controls/base_model_validation_ng_clean_val --smiles_column smiles`\n",
    "\n",
    "`chemprop_predict --test_path ../out/controls/base_model_validation_ng_clean_val.csv --checkpoint_dir ../models/NG/FINALbayHO04052022/ --preds_path ../out/controls/base_model_validation_ng_predictions.csv --features_path ../out/controls/base_model_validation_ng_clean_val.npz --no_features_scaling --smiles_column smiles`\n"
   ]
  },
  {
   "cell_type": "code",
   "execution_count": 2,
   "id": "41572dda",
   "metadata": {},
   "outputs": [],
   "source": [
    "plt.rcParams['font.size'] = 10"
   ]
  },
  {
   "cell_type": "code",
   "execution_count": 5,
   "id": "da8a93a7",
   "metadata": {},
   "outputs": [
    {
     "name": "stdout",
     "output_type": "stream",
     "text": [
      "precision recall: 0.4749927414577624\n",
      "recall: \n",
      "0.34210526315789475\n",
      "precision: \n",
      "0.48148148148148145\n"
     ]
    }
   ],
   "source": [
    "savaldf = pd.read_csv(out_path + 'base_model_validation_sa_predictions.csv')\n",
    "evaluate_model(savaldf, cutoff_for_positive = 0.5)"
   ]
  },
  {
   "cell_type": "code",
   "execution_count": 6,
   "id": "52da01aa",
   "metadata": {},
   "outputs": [
    {
     "name": "stdout",
     "output_type": "stream",
     "text": [
      "precision recall: 0.6244644145834173\n",
      "recall: \n",
      "1.0\n",
      "precision: \n",
      "0.48951048951048953\n"
     ]
    }
   ],
   "source": [
    "ngvaldf = pd.read_csv(out_path + 'base_model_validation_ng_predictions.csv')\n",
    "evaluate_model(ngvaldf, cutoff_for_positive = 0.2, predicted_col='hit')"
   ]
  }
 ],
 "metadata": {
  "kernelspec": {
   "display_name": "chemprop",
   "language": "python",
   "name": "python3"
  },
  "language_info": {
   "codemirror_mode": {
    "name": "ipython",
    "version": 3
   },
   "file_extension": ".py",
   "mimetype": "text/x-python",
   "name": "python",
   "nbconvert_exporter": "python",
   "pygments_lexer": "ipython3",
   "version": "3.8.12"
  }
 },
 "nbformat": 4,
 "nbformat_minor": 5
}

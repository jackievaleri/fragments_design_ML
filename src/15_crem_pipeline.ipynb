{
 "cells": [
  {
   "cell_type": "code",
   "execution_count": null,
   "metadata": {},
   "outputs": [],
   "source": [
    "import os\n",
    "from crem_pipeline import run_crem"
   ]
  },
  {
   "cell_type": "markdown",
   "metadata": {},
   "source": [
    "# Mol9"
   ]
  },
  {
   "cell_type": "code",
   "execution_count": null,
   "metadata": {
    "scrolled": true
   },
   "outputs": [],
   "source": [
    "DIR = '../out/crem/mol9_crem/' # intermediate folder for predictions and results, will tag with grow/ or mutate/\n",
    "ORIG_MOL_SMI = 'CSC1=C(F)C=C(NC(=O)N[C@H]2[C@H]3CC[C@H](O3)[C@@H]2C(F)(F)F)C=C1F'\n",
    "ORIG_FRAG_SMI = 'CSC1=CC=C(NC(=O)N[C@@H]2C[C@@H]3CC[C@H]2O3)C=C1F'\n",
    "\n",
    "MAX_ATOM_RANGE = [4,6,8,10]\n",
    "MIN_ATOM_RANGE = [0] # 0 is replacing hydrogens\n",
    "RADIUS_RANGE = [2,3]\n",
    "MIN_INC_RANGE = [-2] # only for mut\n",
    "MAX_INC_RANGE = [2] # only for mut\n",
    "\n",
    "NUM_TOP_TO_GET = 5\n",
    "NUM_RANDOM_TO_GET = 5\n",
    "NUM_ITERS = 5\n",
    "CPD_FILTER = 'both' # one of 'pains', 'brenk', 'both', 'none'\n",
    "MODEL_PATH = '../generativeML/models/revised_sa_model_from_felix/'\n",
    "HIT_COLUMN = 'ACTIVITY'\n",
    "\n",
    "for score_path in ['modified_score', 'regular_score']:\n",
    "    if score_path == 'regular_score':\n",
    "        REGULAR_SCORE = True # one of True or False (False triggers modified score)\n",
    "    else:\n",
    "        REGULAR_SCORE = False\n",
    "    OUT_DIR = DIR + score_path + '/'\n",
    "    os.mkdir(OUT_DIR)\n",
    "\n",
    "    for mut_or_grow in ['mut', 'grow']:\n",
    "        METHOD = mut_or_grow\n",
    "    \n",
    "    run_crem(out_dir=OUT_DIR, orig_frag_smi=ORIG_FRAG_SMI, orig_mol_smi=ORIG_MOL_SMI, max_atom_range=MAX_ATOM_RANGE,\n",
    "             min_atom_range=MIN_ATOM_RANGE, radius_range=RADIUS_RANGE, min_inc_range=MIN_INC_RANGE, max_inc_range=MAX_INC_RANGE,\n",
    "             num_iters=NUM_ITERS, method=METHOD, regular_score=REGULAR_SCORE, num_top_to_get=NUM_TOP_TO_GET,\n",
    "             num_random_to_get=NUM_RANDOM_TO_GET, cpd_filter=CPD_FILTER, model_path=MODEL_PATH, hit_column=HIT_COLUMN)"
   ]
  },
  {
   "cell_type": "markdown",
   "metadata": {},
   "source": [
    "# 8M-713"
   ]
  },
  {
   "cell_type": "code",
   "execution_count": null,
   "metadata": {
    "scrolled": false
   },
   "outputs": [],
   "source": [
    "DIR = '../out/crem/8m_crem/' # intermediate folder for predictions and results, will tag with grow/ or mutate/\n",
    "ORIG_MOL_SMI = 'CC1=C(C(=O)C=CN1CC2=CC(=CC=C2)Cl)CC3=C(C=CC=C3Cl)Cl'\n",
    "ORIG_FRAG_SMI = 'ClC1=CC=CC=C1CC1=CNC=CC1=O'\n",
    "\n",
    "MAX_ATOM_RANGE = [2,4,6,8,10]\n",
    "MIN_ATOM_RANGE = [0,1] # 0 is replacing hydrogens\n",
    "RADIUS_RANGE = [2,3]\n",
    "MIN_INC_RANGE = [-2,-4] # only for mut\n",
    "MAX_INC_RANGE = [2,4] # only for mut\n",
    "\n",
    "NUM_TOP_TO_GET = 5\n",
    "NUM_RANDOM_TO_GET = 5\n",
    "NUM_ITERS = 5\n",
    "CPD_FILTER = 'both' # one of 'pains', 'brenk', 'both', 'none'\n",
    "MODEL_PATH = '../generativeML/models/revised_sa_model_from_felix/'\n",
    "HIT_COLUMN = 'ACTIVITY'\n",
    "\n",
    "for score_path in ['modified_score', 'regular_score']:\n",
    "    if score_path == 'regular_score':\n",
    "        REGULAR_SCORE = True # one of True or False (False triggers modified score)\n",
    "    else:\n",
    "        REGULAR_SCORE = False\n",
    "    OUT_DIR = DIR + score_path + '/'\n",
    "    os.mkdir(OUT_DIR)\n",
    "\n",
    "    for mut_or_grow in ['mut', 'grow']:\n",
    "        METHOD = mut_or_grow\n",
    "    \n",
    "    run_crem(out_dir=OUT_DIR, orig_frag_smi=ORIG_FRAG_SMI, orig_mol_smi=ORIG_MOL_SMI, max_atom_range=MAX_ATOM_RANGE,\n",
    "             min_atom_range=MIN_ATOM_RANGE, radius_range=RADIUS_RANGE, min_inc_range=MIN_INC_RANGE, max_inc_range=MAX_INC_RANGE,\n",
    "             num_iters=NUM_ITERS, method=METHOD, regular_score=REGULAR_SCORE, num_top_to_get=NUM_TOP_TO_GET,\n",
    "             num_random_to_get=NUM_RANDOM_TO_GET, cpd_filter=CPD_FILTER, model_path=MODEL_PATH, hit_column=HIT_COLUMN)"
   ]
  },
  {
   "cell_type": "markdown",
   "metadata": {},
   "source": [
    "# V027"
   ]
  },
  {
   "cell_type": "code",
   "execution_count": null,
   "metadata": {},
   "outputs": [],
   "source": [
    "DIR = '../out/crem/v027_crem/' # intermediate folder for predictions and results, will tag with grow/ or mutate/\n",
    "ORIG_MOL_SMI = 'CC1(CNC(=O)CC(c2c[nH]c3ccc(Cl)cc23)c2ccc(Cl)cc2)CCCO1'\n",
    "ORIG_FRAG_SMI = 'C(C1=CNC2=C1C=CC=C2)C1=CC=CC=C1'\n",
    "\n",
    "MAX_ATOM_RANGE = [4,6,8,10]\n",
    "MIN_ATOM_RANGE = [0] # 0 is replacing hydrogens\n",
    "RADIUS_RANGE = [2,3]\n",
    "MIN_INC_RANGE = [-2] # only for mut\n",
    "MAX_INC_RANGE = [2] # only for mut\n",
    "\n",
    "NUM_TOP_TO_GET = 5\n",
    "NUM_RANDOM_TO_GET = 5\n",
    "NUM_ITERS = 5\n",
    "CPD_FILTER = 'both' # one of 'pains', 'brenk', 'both', 'none'\n",
    "MODEL_PATH = '../generativeML/models/revised_sa_model_from_felix/'\n",
    "HIT_COLUMN = 'ACTIVITY'\n",
    "\n",
    "for score_path in ['modified_score', 'regular_score']:\n",
    "    if score_path == 'regular_score':\n",
    "        REGULAR_SCORE = True # one of True or False (False triggers modified score)\n",
    "    else:\n",
    "        REGULAR_SCORE = False\n",
    "    OUT_DIR = DIR + score_path + '/'\n",
    "    os.mkdir(OUT_DIR)\n",
    "\n",
    "    for mut_or_grow in ['mut', 'grow']:\n",
    "        METHOD = mut_or_grow\n",
    "    \n",
    "    run_crem(out_dir=OUT_DIR, orig_frag_smi=ORIG_FRAG_SMI, orig_mol_smi=ORIG_MOL_SMI, max_atom_range=MAX_ATOM_RANGE,\n",
    "             min_atom_range=MIN_ATOM_RANGE, radius_range=RADIUS_RANGE, min_inc_range=MIN_INC_RANGE, max_inc_range=MAX_INC_RANGE,\n",
    "             num_iters=NUM_ITERS, method=METHOD, regular_score=REGULAR_SCORE, num_top_to_get=NUM_TOP_TO_GET,\n",
    "             num_random_to_get=NUM_RANDOM_TO_GET, cpd_filter=CPD_FILTER, model_path=MODEL_PATH, hit_column=HIT_COLUMN)"
   ]
  },
  {
   "cell_type": "markdown",
   "metadata": {},
   "source": [
    "# NG Cpd"
   ]
  },
  {
   "cell_type": "code",
   "execution_count": null,
   "metadata": {},
   "outputs": [],
   "source": [
    "DIR = '../out/crem/ngcpd_crem/' # intermediate folder for predictions and results, will tag with grow/ or mutate/\n",
    "ORIG_MOL_SMI = 'Clc1ccc(c(c1)Cl)N1CC[C@@H](C1)NC(=O)c1cn[nH]n1'\n",
    "ORIG_FRAG_SMI = 'CC(=O)NC1CCN(C2=CC=C(Cl)C=C2Cl)C1'\n",
    "\n",
    "MAX_ATOM_RANGE = [4,6,8,10]\n",
    "MIN_ATOM_RANGE = [0] # 0 is replacing hydrogens\n",
    "RADIUS_RANGE = [2,3]\n",
    "MIN_INC_RANGE = [-2] # only for mut\n",
    "MAX_INC_RANGE = [2] # only for mut\n",
    "\n",
    "NUM_TOP_TO_GET = 5\n",
    "NUM_RANDOM_TO_GET = 5\n",
    "NUM_ITERS = 5\n",
    "CPD_FILTER = 'both' # one of 'pains', 'brenk', 'both', 'none'\n",
    "MODEL_PATH = '../melis_gonorrhea/models/bayHOv210262022/FINALbayHO11152022/' # from chemprop dir\n",
    "HIT_COLUMN = 'hit' # what model predicts - specifically name of the column\n",
    "\n",
    "for score_path in ['modified_score', 'regular_score']:\n",
    "    if score_path == 'regular_score':\n",
    "        REGULAR_SCORE = True # one of True or False (False triggers modified score)\n",
    "    else:\n",
    "        REGULAR_SCORE = False\n",
    "    OUT_DIR = DIR + score_path + '/'\n",
    "    os.mkdir(OUT_DIR)\n",
    "\n",
    "    for mut_or_grow in ['mut', 'grow']:\n",
    "        METHOD = mut_or_grow\n",
    "    \n",
    "    run_crem(out_dir=OUT_DIR, orig_frag_smi=ORIG_FRAG_SMI, orig_mol_smi=ORIG_MOL_SMI, max_atom_range=MAX_ATOM_RANGE,\n",
    "             min_atom_range=MIN_ATOM_RANGE, radius_range=RADIUS_RANGE, min_inc_range=MIN_INC_RANGE, max_inc_range=MAX_INC_RANGE,\n",
    "             num_iters=NUM_ITERS, method=METHOD, regular_score=REGULAR_SCORE, num_top_to_get=NUM_TOP_TO_GET,\n",
    "             num_random_to_get=NUM_RANDOM_TO_GET, cpd_filter=CPD_FILTER, model_path=MODEL_PATH, hit_column=HIT_COLUMN)"
   ]
  }
 ],
 "metadata": {
  "kernelspec": {
   "display_name": "Python 3 (ipykernel)",
   "language": "python",
   "name": "python3"
  },
  "language_info": {
   "codemirror_mode": {
    "name": "ipython",
    "version": 3
   },
   "file_extension": ".py",
   "mimetype": "text/x-python",
   "name": "python",
   "nbconvert_exporter": "python",
   "pygments_lexer": "ipython3",
   "version": "3.8.13"
  }
 },
 "nbformat": 4,
 "nbformat_minor": 2
}

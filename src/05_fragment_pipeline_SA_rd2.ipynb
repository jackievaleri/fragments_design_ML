{
 "cells": [
  {
   "cell_type": "code",
   "execution_count": 1,
   "metadata": {},
   "outputs": [
    {
     "name": "stderr",
     "output_type": "stream",
     "text": [
      "/Users/jackie16201/opt/anaconda3/envs/torch_environment/lib/python3.10/site-packages/tqdm/auto.py:22: TqdmWarning: IProgress not found. Please update jupyter and ipywidgets. See https://ipywidgets.readthedocs.io/en/stable/user_install.html\n",
      "  from .autonotebook import tqdm as notebook_tqdm\n",
      "/Users/jackie16201/Desktop/Spring_2023/fragments_discovery_design_ML/src/pipeline.py:12: DeprecationWarning: The rdkit.Chem.MCS module is deprecated; please use rdkit.Chem.rdFMCS instead.\n",
      "  from rdkit.Chem import MCS\n"
     ]
    }
   ],
   "source": [
    "%matplotlib inline\n",
    "import pandas as pd\n",
    "from pipeline import run_pipeline\n",
    "# JV note: recapitulates 13.1_fragment_prioritization_pipeline_v5_script_0.05_17atom_on_800K_and_orderable and out/pipeline_v5_script/frag_0.05_17atom_800K_and_5mil;"
   ]
  },
  {
   "cell_type": "code",
   "execution_count": 2,
   "metadata": {},
   "outputs": [
    {
     "name": "stderr",
     "output_type": "stream",
     "text": [
      "/var/folders/py/8hwb28r933z4xh4q0dw5hz2h0000gn/T/ipykernel_61151/1561465519.py:10: DtypeWarning: Columns (1,2,3) have mixed types. Specify dtype option on import or set low_memory=False.\n",
      "  orderable = pd.read_csv('../out/model_preds_on_frags_and_cpds/SA/combined_orderable_5mil_preds_08_01_2022.csv')\n",
      "/var/folders/py/8hwb28r933z4xh4q0dw5hz2h0000gn/T/ipykernel_61151/1561465519.py:16: FutureWarning: The frame.append method is deprecated and will be removed from pandas in a future version. Use pandas.concat instead.\n",
      "  full_cpd_df = broad800k.append(orderable)\n"
     ]
    }
   ],
   "source": [
    "# save metadata\n",
    "broad800k = pd.read_csv('../out/model_preds_on_frags_and_cpds/SA/combined_broad_preds_05_20_2022.csv')\n",
    "metadata = pd.read_csv('../data/static_datasets/PublicStructures.txt', sep = '\\t')\n",
    "broad800k = broad800k.merge(metadata, left_on = 'smiles', right_on = 'SMILES', how = 'left')\n",
    "broad800k = broad800k.drop_duplicates('smiles')\n",
    "broad800k = broad800k[['smiles', 'Name', 'ACTIVITY']]\n",
    "broad800k.to_csv('../out/model_preds_on_frags_and_cpds/SA/combined_broad_preds_with_metadata_05_20_2022.csv')\n",
    "\n",
    "# orderable 5 mil molecules\n",
    "orderable = pd.read_csv('../out/model_preds_on_frags_and_cpds/SA/combined_orderable_5mil_preds_08_01_2022.csv')\n",
    "orderable['smiles'] = orderable['SMILES']\n",
    "orderable['Name'] = orderable['Database']\n",
    "orderable = orderable[['smiles', 'Name', 'ACTIVITY']]\n",
    "\n",
    "# combine them\n",
    "full_cpd_df = broad800k.append(orderable)\n",
    "full_cpd_df.to_csv('../out/model_preds_on_frags_and_cpds/SA/combined_broad_preds_and_5mil_orderable_preds.csv', index = False)"
   ]
  },
  {
   "cell_type": "code",
   "execution_count": 3,
   "metadata": {},
   "outputs": [],
   "source": [
    "# ACTUAL VALUES for SA round 2\n",
    "\n",
    "# values for processing fragments and compounds\n",
    "fragment_path = '../out/model_preds_on_frags_and_cpds/SA/FINISHED_combined_fragment_preds_gdb17_07_05_2022.csv'\n",
    "compound_path = '../out/model_preds_on_frags_and_cpds/SA/combined_broad_preds_and_5mil_orderable_preds.csv'\n",
    "result_path = '../out/fragment_algorithm_pipeline_runs/07_SA_rd2/'\n",
    "fragment_smi_col = 'SMILES'\n",
    "compound_smi_col = 'smiles'\n",
    "fragment_hit_col = 'ACTIVITY'\n",
    "compound_hit_col = 'ACTIVITY'\n",
    "cpd_name_col = 'Name'\n",
    "\n",
    "# filters and thresholds for fragments and compounds\n",
    "fragment_score = 0.05\n",
    "compound_score = 0.2\n",
    "fragment_remove_pains_brenk = 'both' # one of 'both', 'pains', 'brenk', 'none'\n",
    "compound_remove_pains_brenk = 'both' # one of 'both', 'pains', 'brenk', 'none'\n",
    "fragment_druglikeness_filter = [] # list containing 'egan', 'ghose', 'lipinski', 'muegge'\n",
    "compound_druglikeness_filter = [] # list containing 'egan', 'ghose', 'lipinski', 'muegge'\n",
    "fragment_require_more_than_coh = True\n",
    "fragment_remove_patterns = []\n",
    "\n",
    "# input for matching and comparison to existing datasets\n",
    "frags_cannot_disrupt_rings = True\n",
    "fragment_length_threshold = 0 # must be bigger than 0\n",
    "display_inline_candidates = True\n",
    "analogues_pval_diff_thresh = 0\n",
    "analogues_absolute_diff_thresh = 0.05\n",
    "\n",
    "# toxicity\n",
    "toxicity_threshold_if_present = 0.5\n",
    "toxicity_threshold_require_presence = False\n",
    "\n",
    "# antibiotics\n",
    "abx_path = '../data/static_datasets/04052022_CLEANED_v5_antibiotics_across_many_classes.csv'\n",
    "abx_smiles_col = 'Smiles'\n",
    "abx_name_col = 'Name'\n",
    "cpd_sim_to_abx = 0\n",
    "\n",
    "# training set\n",
    "train_set_path = '../data/training_data/SA/37K_sa_screen.csv'\n",
    "train_set_smiles_col = 'SMILES'\n",
    "train_set_name_col = 'Compound_ID'\n",
    "cpd_sim_to_train_set = 0\n",
    "\n",
    "# purchasable libraries\n",
    "purch_path = ''\n",
    "purch_name_col = 'BROADID'\n",
    "purch_name_needs_split = False\n",
    "\n",
    "# tested before libraries - can be more expansive than train set\n",
    "tested_before_path = ''\n",
    "tested_before_name_col = 'Name'\n",
    "tested_before_name_needs_split = False"
   ]
  },
  {
   "cell_type": "code",
   "execution_count": 4,
   "metadata": {},
   "outputs": [
    {
     "name": "stdout",
     "output_type": "stream",
     "text": [
      "\n",
      "Processing fragments...\n",
      "length of df:  60351204\n",
      "length of df >0.05:  977571\n",
      "length of df with more than C,O,H characters:  864846\n",
      "length of df with valid mols:  864846\n",
      "length of all preds with clean (no PAINS or Brenk) mols:  329217\n",
      "\n",
      "Processing compounds...\n"
     ]
    },
    {
     "name": "stderr",
     "output_type": "stream",
     "text": [
      "/Users/jackie16201/Desktop/Spring_2023/fragments_discovery_design_ML/src/pipeline.py:144: DtypeWarning: Columns (1,2) have mixed types. Specify dtype option on import or set low_memory=False.\n",
      "  df = pd.read_csv(path)\n"
     ]
    },
    {
     "name": "stdout",
     "output_type": "stream",
     "text": [
      "length of df:  6138200\n",
      "length of df >0.2:  103904\n",
      "length of df with valid mols:  103904\n",
      "length of all preds with clean (no PAINS or Brenk) mols:  64956\n",
      "\n",
      "Matching fragments in compounds...\n"
     ]
    }
   ],
   "source": [
    "run_pipeline(fragment_path=fragment_path, compound_path=compound_path, result_path=result_path, fragment_smi_col=fragment_smi_col, compound_smi_col=compound_smi_col, fragment_hit_col=fragment_hit_col, compound_hit_col=compound_hit_col, fragment_score=fragment_score, compound_score=compound_score, fragment_require_more_than_coh=fragment_require_more_than_coh, fragment_remove_pains_brenk=fragment_remove_pains_brenk, compound_remove_pains_brenk=compound_remove_pains_brenk, fragment_druglikeness_filter=fragment_druglikeness_filter, compound_druglikeness_filter=compound_druglikeness_filter, fragment_remove_patterns=fragment_remove_patterns, frags_cannot_disrupt_rings=frags_cannot_disrupt_rings, fragment_length_threshold=fragment_length_threshold, toxicity_threshold_if_present=toxicity_threshold_if_present, toxicity_threshold_require_presence=toxicity_threshold_require_presence, abx_path=abx_path, abx_smiles_col=abx_smiles_col, abx_name_col=abx_name_col, train_set_path=train_set_path, train_set_smiles_col=train_set_smiles_col, train_set_name_col=train_set_name_col, analogues_pval_diff_thresh=analogues_pval_diff_thresh, analogues_absolute_diff_thresh=analogues_absolute_diff_thresh, cpd_name_col=cpd_name_col, display_inline_candidates=display_inline_candidates, purch_path=purch_path, purch_name_col=purch_name_col, purch_name_needs_split=purch_name_needs_split, cpd_sim_to_abx=cpd_sim_to_abx, cpd_sim_to_train_set=cpd_sim_to_train_set)"
   ]
  }
 ],
 "metadata": {
  "kernelspec": {
   "display_name": "Python 3 (ipykernel)",
   "language": "python",
   "name": "python3"
  },
  "language_info": {
   "codemirror_mode": {
    "name": "ipython",
    "version": 3
   },
   "file_extension": ".py",
   "mimetype": "text/x-python",
   "name": "python",
   "nbconvert_exporter": "python",
   "pygments_lexer": "ipython3",
   "version": "3.10.4"
  }
 },
 "nbformat": 4,
 "nbformat_minor": 4
}

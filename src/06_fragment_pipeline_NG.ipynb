{
 "cells": [
  {
   "cell_type": "code",
   "execution_count": 1,
   "metadata": {},
   "outputs": [
    {
     "name": "stderr",
     "output_type": "stream",
     "text": [
      "/Users/jackie16201/opt/anaconda3/envs/torch_environment/lib/python3.10/site-packages/tqdm/auto.py:22: TqdmWarning: IProgress not found. Please update jupyter and ipywidgets. See https://ipywidgets.readthedocs.io/en/stable/user_install.html\n",
      "  from .autonotebook import tqdm as notebook_tqdm\n",
      "/Users/jackie16201/Desktop/Spring_2023/fragments_discovery_design_ML/src/pipeline.py:12: DeprecationWarning: The rdkit.Chem.MCS module is deprecated; please use rdkit.Chem.rdFMCS instead.\n",
      "  from rdkit.Chem import MCS\n"
     ]
    }
   ],
   "source": [
    "%matplotlib inline\n",
    "import pandas as pd\n",
    "from pipeline import run_pipeline "
   ]
  },
  {
   "cell_type": "code",
   "execution_count": 2,
   "metadata": {},
   "outputs": [],
   "source": [
    "# broad800k mols\n",
    "broad800k = pd.read_csv('../out/model_preds_on_frags_and_cpds/NG/broad800K_melis_predictions_with_FINALbayHO11152022_11_16_2022.csv')\n",
    "metadata = pd.read_csv('../data/static_datasets/PublicStructures.txt', sep = '\\t')\n",
    "broad800k = broad800k.merge(metadata, left_on = 'smiles', right_on = 'SMILES', how = 'left')\n",
    "broad800k = broad800k.drop_duplicates('smiles')\n",
    "broad800k = broad800k[['smiles', 'Name', 'hit', 'hit_epi_unc']]\n",
    "broad800k.to_csv('../out/model_preds_on_frags_and_cpds/NG/broad800K_melis_predictions_with_FINALbayHO11152022_with_metadata_11_16_2022.csv')\n",
    "\n",
    "# abx scaffold definition\n",
    "nitrofuran = 'O=[N+](O)c1ccco1'\n",
    "sulfonamide = 'NS(=O)=O'\n",
    "quinolone = 'O=c1cc[nH]c2ccccc12'"
   ]
  },
  {
   "cell_type": "code",
   "execution_count": 3,
   "metadata": {},
   "outputs": [],
   "source": [
    "run_pipeline(\n",
    "    fragment_path='../out/model_preds_on_frags_and_cpds/NG/enamine_frags_18mil_with_FINALbayHO11152022_melis_predictions_11_18_2022.csv',\n",
    "    compound_path='../out/model_preds_on_frags_and_cpds/NG/broad800K_melis_predictions_with_FINALbayHO11152022_with_metadata_11_16_2022.csv',\n",
    "    result_path='../out/fragment_algorithm_pipeline_runs/12_NG_rd1/',\n",
    "    fragment_smi_col='smiles',\n",
    "    compound_smi_col='smiles',\n",
    "    fragment_hit_col='hit',\n",
    "    compound_hit_col='hit',\n",
    "    cpd_name_col='Name',\n",
    "    fragment_score=0.2,\n",
    "    compound_score=0.3,\n",
    "    fragment_remove_pains_brenk='both',\n",
    "    compound_remove_pains_brenk='both',\n",
    "    fragment_druglikeness_filter=[],\n",
    "    compound_druglikeness_filter=[],\n",
    "    fragment_require_more_than_coh=True,\n",
    "    fragment_remove_patterns=[nitrofuran, sulfonamide, quinolone],\n",
    "    frags_cannot_disrupt_rings=True,\n",
    "    fragment_length_threshold=0,\n",
    "    display_inline_candidates=False,\n",
    "    analogues_pval_diff_thresh=0,\n",
    "    analogues_absolute_diff_thresh=0.05,\n",
    "    toxicity_threshold_if_present=0.5,\n",
    "    toxicity_threshold_require_presence=False,\n",
    "    abx_path='../data/static_datasets/04052022_CLEANED_v5_antibiotics_across_many_classes.csv',\n",
    "    abx_smiles_col='Smiles',\n",
    "    abx_name_col='Name',\n",
    "    cpd_sim_to_abx=0.5,\n",
    "    train_set_path='../data/training_data/NG/FULL_10_26_2022.csv',\n",
    "    train_set_smiles_col='SMILES',\n",
    "    train_set_name_col='Name',\n",
    "    train_set_hit_col='hit',\n",
    "    train_set_just_actives=True,\n",
    "    train_set_thresh=0.5,\n",
    "    train_set_greater_than=True,\n",
    "    cpd_sim_to_train_set=0.5,\n",
    "    purch_path='../data/static_datasets/Broad_800K_purchasable.xlsx',\n",
    "    purch_name_col='BROADID',\n",
    "    purch_name_needs_split=True,\n",
    "    tested_before_path='../data/training_data/NG/FULL_10_26_2022.csv',\n",
    "    tested_before_name_col='Name',\n",
    "    tested_before_name_needs_split=False\n",
    ")"
   ]
  },
  {
   "cell_type": "code",
   "execution_count": null,
   "metadata": {},
   "outputs": [],
   "source": [
    "run_pipeline(\n",
    "    fragment_path='../out/model_preds_on_frags_and_cpds/NG/enamine_frags_18mil_with_FINALbayHO11152022_melis_predictions_11_18_2022.csv',\n",
    "    compound_path='../out/model_preds_on_frags_and_cpds/NG/extended_screen_set_with_FINALbayHO11152022_melis_predictions_11_22_2022.csv',\n",
    "    result_path='../out/fragment_algorithm_pipeline_runs/13_NG_rd2/',\n",
    "    fragment_smi_col='smiles',\n",
    "    compound_smi_col='SMILES',\n",
    "    fragment_hit_col='hit',\n",
    "    compound_hit_col='hit',\n",
    "    cpd_name_col='SMILES',\n",
    "    fragment_score=0.25,\n",
    "    compound_score=0.5,\n",
    "    fragment_remove_pains_brenk='both',\n",
    "    compound_remove_pains_brenk='both',\n",
    "    fragment_druglikeness_filter=[],\n",
    "    compound_druglikeness_filter=[],\n",
    "    fragment_require_more_than_coh=True,\n",
    "    fragment_remove_patterns=[nitrofuran, sulfonamide, quinolone],\n",
    "    frags_cannot_disrupt_rings=True,\n",
    "    fragment_length_threshold=0,\n",
    "    display_inline_candidates=False,\n",
    "    analogues_pval_diff_thresh=0,\n",
    "    analogues_absolute_diff_thresh=0.05,\n",
    "    toxicity_threshold_if_present=0.5,\n",
    "    toxicity_threshold_require_presence=False,\n",
    "    abx_path='../data/static_datasets/04052022_CLEANED_v5_antibiotics_across_many_classes.csv',\n",
    "    abx_smiles_col='Smiles',\n",
    "    abx_name_col='Name',\n",
    "    cpd_sim_to_abx=0.5,\n",
    "    train_set_path='../data/training_data/NG/FULL_10_26_2022.csv',\n",
    "    train_set_smiles_col='SMILES',\n",
    "    train_set_name_col='Name',\n",
    "    train_set_hit_col='hit',\n",
    "    train_set_just_actives=True,\n",
    "    train_set_thresh=0.5,\n",
    "    train_set_greater_than=True,\n",
    "    cpd_sim_to_train_set=0.5,\n",
    "    tested_before_path='../data/training_data/NG/FULL_10_26_2022.csv',\n",
    "    tested_before_name_col='Name',\n",
    "    tested_before_name_needs_split=False\n",
    ")"
   ]
  }
 ],
 "metadata": {
  "kernelspec": {
   "display_name": "Python 3 (ipykernel)",
   "language": "python",
   "name": "python3"
  },
  "language_info": {
   "codemirror_mode": {
    "name": "ipython",
    "version": 3
   },
   "file_extension": ".py",
   "mimetype": "text/x-python",
   "name": "python",
   "nbconvert_exporter": "python",
   "pygments_lexer": "ipython3",
   "version": "3.8.12"
  }
 },
 "nbformat": 4,
 "nbformat_minor": 4
}
